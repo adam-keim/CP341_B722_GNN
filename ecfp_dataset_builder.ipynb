{
 "cells": [
  {
   "cell_type": "markdown",
   "id": "e35484a0-2adc-49d4-bf26-9b43388b1ce3",
   "metadata": {},
   "source": [
    "# ECFP6 NN Data preprocessing"
   ]
  },
  {
   "cell_type": "markdown",
   "id": "36b3af83-a8ae-4238-893b-3d868d27c685",
   "metadata": {},
   "source": [
    "This ipynb is intended to be used in tandem with the 'ecfp_nn.ipynb' file. Please run this file first to construct the "
   ]
  },
  {
   "cell_type": "code",
   "execution_count": 5,
   "id": "2d27925c-fa55-4787-ae5d-3c843c74a14b",
   "metadata": {},
   "outputs": [],
   "source": [
    "import pandas as pd\n",
    "import pickle\n",
    "from rdkit import Chem\n",
    "from rdkit.Chem import AllChem\n",
    "import numpy as np"
   ]
  },
  {
   "cell_type": "markdown",
   "id": "5375aab8-8304-4c28-8ff3-516a15b198a7",
   "metadata": {},
   "source": [
    "## Data preprocessing and Loading"
   ]
  },
  {
   "cell_type": "code",
   "execution_count": 6,
   "id": "b14f46e8-ee5a-4174-9f4c-2966b6dda119",
   "metadata": {},
   "outputs": [],
   "source": [
    "def string_to_bitstr(smiles):\n",
    "    mol = Chem.MolFromSmiles(smiles) # convert smiles to molecule\n",
    "    mol = Chem.AddHs(mol) # include hydrogen's in EFCP\n",
    "    # next line converts the molecule into a ~ECFP6 fingerprint string with 2048 bits\n",
    "    fprint = AllChem.GetMorganFingerprintAsBitVect(mol=mol, radius=3, nBits=2048)\n",
    "    # convert that to the one hot encoding of the ECFP6\n",
    "    rtrn = np.fromiter(fprint.ToBitString(), \"u1\")\n",
    "    return rtrn"
   ]
  },
  {
   "cell_type": "code",
   "execution_count": 3,
   "id": "26a11cef-fd50-46f1-a3e2-5a21527f1cd8",
   "metadata": {},
   "outputs": [],
   "source": [
    "def load_B3DB(path=\"B3DB/B3DB/B3DB_classification.tsv\"):\n",
    "    # load dataset from B3DB\n",
    "    data = pd.read_csv(path, sep=\"\\t\")\n",
    "    fingerprints = []\n",
    "    labels = []\n",
    "    for idx, row in data.iterrows(): # iter thru data\n",
    "        smiles = row[\"SMILES\"] # get smiles\n",
    "        fingerprints.append(string_to_bitstr(smiles)) # convert smiles to bitstring\n",
    "        if row['BBB+/BBB-'] == 'BBB+': # assing 1 for BBB+, 0 for BBB-\n",
    "            labels.append(1)\n",
    "        else:\n",
    "            labels.append(0)\n",
    "    fingerprints = np.array(fingerprints)\n",
    "    labels = np.array(labels)\n",
    "    return (fingerprints, labels)\n",
    "\n",
    "def pickle_database(obj, name='fps_and_labels.pickle'):\n",
    "    with open('fps_and_labels.pickle', 'wb') as f:\n",
    "        pickle.dump(obj, f)\n",
    "    return"
   ]
  },
  {
   "cell_type": "markdown",
   "id": "b865aecf-61bf-4fef-b19e-4c8bb5fc884c",
   "metadata": {},
   "source": [
    "### Build and pickle the processed data"
   ]
  },
  {
   "cell_type": "markdown",
   "id": "054a0dbd-35f7-41c6-99c1-47e8eed403ee",
   "metadata": {},
   "source": [
    "To build your pickled ecfp data object, all that is necessary is that the proper path to reach the \"B3DB_classification.tsv\" be provided. It can be enter below, or if not entered, an attempt to access it as though it resided in the same folder as this file will be made."
   ]
  },
  {
   "cell_type": "code",
   "execution_count": 2,
   "id": "414b0913-e41e-4ea6-8da5-8ab35f1cca76",
   "metadata": {},
   "outputs": [],
   "source": [
    "# To set a path, uncomment the line below and type in the appropriate string.\n",
    "# path = \"\""
   ]
  },
  {
   "cell_type": "code",
   "execution_count": 10,
   "id": "aca41b5f-180e-409b-a00a-4bd6b7eed8be",
   "metadata": {},
   "outputs": [],
   "source": [
    "# This pickling was done because rdkit is unusable in google colab\n",
    "fingerprints, labels = load_B3DB(path)\n",
    "pickle_database((fingerprints, labels))"
   ]
  }
 ],
 "metadata": {
  "kernelspec": {
   "display_name": "Python 3 (ipykernel)",
   "language": "python",
   "name": "python3"
  },
  "language_info": {
   "codemirror_mode": {
    "name": "ipython",
    "version": 3
   },
   "file_extension": ".py",
   "mimetype": "text/x-python",
   "name": "python",
   "nbconvert_exporter": "python",
   "pygments_lexer": "ipython3",
   "version": "3.8.13"
  }
 },
 "nbformat": 4,
 "nbformat_minor": 5
}
