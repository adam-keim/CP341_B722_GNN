{
 "cells": [
  {
   "cell_type": "markdown",
   "id": "54792e88-b139-4fa4-9a57-aa9582475393",
   "metadata": {},
   "source": [
    "# Overview\n",
    "\n",
    "The following notebook will:\n",
    " * Define two graph convolutional neural network models\n",
    " * Define a series of functions for training and testing the models\n",
    " * Import and load the B3DB dataset which has been pre-processed into a list of torch tensors\n",
    " * Run a series of preliminary experiments to assess the quality of the model on the BBB classification task\n",
    " * Run and briefly analyze a simple hyper-parameter search for one of the models\n",
    "\n",
    "#### Note:\n",
    "Some of the cells are computationally very expensive and their outputs have been pickled as '.pt' files. If you want to use the notebook interactively, we reccomend that you run the torch.load cells instead to save time."
   ]
  },
  {
   "cell_type": "code",
   "execution_count": 526,
   "id": "1ce11e47-318b-4293-9c96-d4bda137baf5",
   "metadata": {},
   "outputs": [],
   "source": [
    "import torch\n",
    "import numpy as np\n",
    "import pandas as pd\n",
    "import matplotlib.pyplot as plt\n",
    "import torch_geometric as tgn\n",
    "from torch.nn import Sequential as Seq, Linear, ReLU\n",
    "from torch_geometric.utils import add_self_loops, degree\n",
    "from torch_geometric.nn import MessagePassing\n",
    "from torch_geometric.data import Data\n",
    "import torch.nn.functional as F\n",
    "\n",
    "from torch_geometric.loader import DataLoader\n",
    "\n",
    "from torch_geometric.nn import GCNConv\n",
    "from torch_geometric.nn import global_mean_pool\n",
    "\n",
    "from tqdm import tqdm"
   ]
  },
  {
   "cell_type": "markdown",
   "id": "ec09bfa4-93d4-455b-b2ce-56061024d0dd",
   "metadata": {},
   "source": [
    "# Model Definition"
   ]
  },
  {
   "cell_type": "markdown",
   "id": "f30fe9a2-5557-495d-9b2e-449cd42ea9c3",
   "metadata": {},
   "source": [
    "#### 1 output channel model"
   ]
  },
  {
   "cell_type": "code",
   "execution_count": 490,
   "id": "e26da9f2-a970-4c08-9f8e-48e6c870e25b",
   "metadata": {},
   "outputs": [],
   "source": [
    "class GCN_binary(torch.nn.Module):\n",
    "    def __init__(self, hidden_channels):\n",
    "        super(GCN_binary, self).__init__()\n",
    "        torch.manual_seed(12345)\n",
    "        self.conv1 = GCNConv(30, hidden_channels)\n",
    "        self.conv2 = GCNConv(hidden_channels, hidden_channels)\n",
    "        self.conv3 = GCNConv(hidden_channels, hidden_channels)\n",
    "        self.lin = Linear(hidden_channels, 1)\n",
    "\n",
    "    def forward(self, x, edge_index, batch):\n",
    "        # Convolution layers \n",
    "        x = self.conv1(x, edge_index)\n",
    "        x = x.relu()\n",
    "        x = self.conv2(x, edge_index)\n",
    "        x = x.relu()\n",
    "        x = self.conv3(x, edge_index)\n",
    "\n",
    "        # pooling\n",
    "        x = global_mean_pool(x, batch)  # [batch_size, hidden_channels]\n",
    "\n",
    "        # Randomly zeros some values from the input tensor according to a bernouli distribution\n",
    "        # helps avoid over-fitting by minimizing learned co-dependence of \n",
    "        x = F.dropout(x, p=0.5, training=self.training)\n",
    "        \n",
    "        # Apply a final classifier\n",
    "        x = self.lin(x)\n",
    "        \n",
    "        return x"
   ]
  },
  {
   "cell_type": "markdown",
   "id": "31300407-4808-4216-81c1-4eb867cd2357",
   "metadata": {
    "tags": []
   },
   "source": [
    "#### 2 output channel model"
   ]
  },
  {
   "cell_type": "code",
   "execution_count": 403,
   "id": "0d10dce7-9c54-4912-914f-a9a16fa731a6",
   "metadata": {},
   "outputs": [],
   "source": [
    "class GCN_2channel_out(torch.nn.Module):\n",
    "    def __init__(self, hidden_channels):\n",
    "        super(GCN_2channel_out, self).__init__()\n",
    "        torch.manual_seed(12345)\n",
    "        self.conv1 = GCNConv(30, hidden_channels)\n",
    "        self.conv2 = GCNConv(hidden_channels, hidden_channels)\n",
    "        self.conv3 = GCNConv(hidden_channels, hidden_channels)\n",
    "        self.lin = Linear(hidden_channels, 2)\n",
    "\n",
    "    def forward(self, x, edge_index, batch):\n",
    "        # Convolution layers \n",
    "        x = self.conv1(x, edge_index)\n",
    "        x = x.relu()\n",
    "        x = self.conv2(x, edge_index)\n",
    "        x = x.relu()\n",
    "        x = self.conv3(x, edge_index)\n",
    "\n",
    "        # pooling\n",
    "        x = global_mean_pool(x, batch)  # [batch_size, hidden_channels]\n",
    "\n",
    "        # Apply a final classifier\n",
    "        x = F.dropout(x, p=0.5, training=self.training)\n",
    "        x = self.lin(x)\n",
    "        \n",
    "        return x"
   ]
  },
  {
   "cell_type": "markdown",
   "id": "5c465aa0-7fde-4b4a-a1e6-c2492b8612ae",
   "metadata": {},
   "source": [
    "# Training / Eval Functions"
   ]
  },
  {
   "cell_type": "markdown",
   "id": "1e34e407-2e9a-45d5-888a-e38960000f1f",
   "metadata": {},
   "source": [
    "#### 2 output channels"
   ]
  },
  {
   "cell_type": "code",
   "execution_count": 392,
   "id": "835d60e2-6926-4a3f-a974-168da5bf72e1",
   "metadata": {},
   "outputs": [],
   "source": [
    "def train_one_epoch_2channels(model, data_loader, optimizer, loss_fn):\n",
    "    \n",
    "    model.train()\n",
    "    loss_sum = []\n",
    "    for _, batch in enumerate(data_loader):\n",
    "        optimizer.zero_grad()\n",
    "\n",
    "        model_out = model(batch.x.float(), batch.edge_index, batch.batch)\n",
    "        loss = loss_fn(model_out, batch.y)\n",
    "\n",
    "        loss.backward()  \n",
    "        optimizer.step()\n",
    "        \n",
    "        # metrics\n",
    "        loss_sum.append(loss.detach().numpy())\n",
    "        \n",
    "    return np.array(loss_sum).sum() / len(data_loader)\n",
    "    "
   ]
  },
  {
   "cell_type": "code",
   "execution_count": 393,
   "id": "3b38fa63-52ff-48b8-9b6c-b9c2a6307638",
   "metadata": {},
   "outputs": [],
   "source": [
    "def test_2channels(loader):\n",
    "    model.eval()\n",
    "    correct = 0\n",
    "    for data in loader:\n",
    "        out = model(data.x.float(), data.edge_index, data.batch)          \n",
    "        pred = out.argmax(dim=1)  # Use the class with highest probability.\n",
    "        correct += int((pred == data.y).sum())  # Check against ground-truth labels.\n",
    "    return correct / len(loader.dataset)  # Derive ratio of correct predictions."
   ]
  },
  {
   "cell_type": "markdown",
   "id": "1a07ef05-39dd-481a-b36b-bd6221a380ff",
   "metadata": {},
   "source": [
    "#### 1 output channel"
   ]
  },
  {
   "cell_type": "code",
   "execution_count": 394,
   "id": "e4ddc176-9171-48cf-b25c-5001a7733e48",
   "metadata": {},
   "outputs": [],
   "source": [
    "def train_one_epoch_1channel(model, data_loader, optimizer, loss_fn):\n",
    "    model.train()\n",
    "    loss_sum = []\n",
    "    for _, batch in enumerate(data_loader):\n",
    "        optimizer.zero_grad()\n",
    "        \n",
    "        model_out = torch.sigmoid(model(batch.x.float(), batch.edge_index, batch.batch))\n",
    "        loss = loss_fn(torch.squeeze(model_out), batch.y.float())\n",
    "\n",
    "        loss.backward()  \n",
    "        optimizer.step()\n",
    "        \n",
    "        # metrics\n",
    "        loss_sum.append(loss.detach().numpy())\n",
    "        \n",
    "    return np.array(loss_sum).sum() / len(data_loader)\n",
    "    "
   ]
  },
  {
   "cell_type": "code",
   "execution_count": 395,
   "id": "0dee6d69-8972-4171-b17f-e567153afe91",
   "metadata": {},
   "outputs": [],
   "source": [
    "def test_1channel(loader):\n",
    "    model.eval()\n",
    "    correct = 0\n",
    "    for data in loader:        \n",
    "        out = torch.sigmoid(model(data.x.float(), data.edge_index, data.batch))\n",
    "        pred = torch.tensor([1.0 if res > 0.5 else 0 for res in out])\n",
    "        \n",
    "        correct += int((pred == data.y).sum())  # Check against ground-truth labels.\n",
    "    return correct / len(loader.dataset)  # Derive ratio of correct predictions."
   ]
  },
  {
   "cell_type": "markdown",
   "id": "7d3fbf3d-86c0-430d-b188-0720b4204120",
   "metadata": {},
   "source": [
    "### Helper Methods"
   ]
  },
  {
   "cell_type": "code",
   "execution_count": 338,
   "id": "f99e97a4-66b6-4ce8-93ec-8383c0f2cf43",
   "metadata": {},
   "outputs": [],
   "source": [
    "def count_parameters(model):\n",
    "    return sum(p.numel() for p in model.parameters() if p.requires_grad)"
   ]
  },
  {
   "cell_type": "markdown",
   "id": "a11f36fa-7bc9-4f00-8f61-b794918b554d",
   "metadata": {},
   "source": [
    "# Message Passing Pyg Experiments"
   ]
  },
  {
   "cell_type": "markdown",
   "id": "58de23dd-5916-438a-be14-a44637340aad",
   "metadata": {},
   "source": [
    "### Rich Dataset"
   ]
  },
  {
   "cell_type": "code",
   "execution_count": 446,
   "id": "a530fc1c-faef-42b7-ac6e-dd833af0eb8d",
   "metadata": {},
   "outputs": [],
   "source": [
    "import random\n",
    "random.seed(1)"
   ]
  },
  {
   "cell_type": "code",
   "execution_count": 460,
   "id": "d22e08a4-3d00-4165-96a2-2f8d995c7c99",
   "metadata": {},
   "outputs": [
    {
     "name": "stderr",
     "output_type": "stream",
     "text": [
      "  0%|                                                                                                    | 0/1000 [51:23<?, ?it/s]\n"
     ]
    }
   ],
   "source": [
    "rich_data = torch.load('rich_dataset.pt') # 30 node features, 11 edge features"
   ]
  },
  {
   "cell_type": "code",
   "execution_count": 461,
   "id": "f7d11a0a-34a4-4eea-8ab4-87d83d54068a",
   "metadata": {},
   "outputs": [
    {
     "data": {
      "text/plain": [
       "Data(x=[28, 30], edge_index=[2, 60], edge_attr=[60, 11], y=0)"
      ]
     },
     "execution_count": 461,
     "metadata": {},
     "output_type": "execute_result"
    }
   ],
   "source": [
    "rich_data[0]"
   ]
  },
  {
   "cell_type": "code",
   "execution_count": 560,
   "id": "abac00e2-67a3-46bc-b89e-8ae72ff20f94",
   "metadata": {},
   "outputs": [
    {
     "data": {
      "text/plain": [
       "7800"
      ]
     },
     "execution_count": 560,
     "metadata": {},
     "output_type": "execute_result"
    }
   ],
   "source": [
    "len(rich_data)"
   ]
  },
  {
   "cell_type": "code",
   "execution_count": 566,
   "id": "70683443-6938-4930-9098-f5b55cc74011",
   "metadata": {},
   "outputs": [
    {
     "data": {
      "text/plain": [
       "4949"
      ]
     },
     "execution_count": 566,
     "metadata": {},
     "output_type": "execute_result"
    }
   ],
   "source": [
    "# Can pass BBB\n",
    "sum([1 if d.y==1.0 else 0 for d in rich_data])"
   ]
  },
  {
   "cell_type": "code",
   "execution_count": 568,
   "id": "d19b867e-7d93-4e99-9abf-febd3057b053",
   "metadata": {},
   "outputs": [
    {
     "data": {
      "text/plain": [
       "2851"
      ]
     },
     "execution_count": 568,
     "metadata": {},
     "output_type": "execute_result"
    }
   ],
   "source": [
    "# Can NOT pass BBB\n",
    "sum([1 if d.y==0.0 else 0 for d in rich_data])"
   ]
  },
  {
   "cell_type": "code",
   "execution_count": 462,
   "id": "7a758d9a-71b8-4036-9f9a-7d22f553b02f",
   "metadata": {},
   "outputs": [],
   "source": [
    "random.shuffle(rich_data)"
   ]
  },
  {
   "cell_type": "code",
   "execution_count": 463,
   "id": "2efef0c1-0d00-4b84-8524-09a9cf623515",
   "metadata": {},
   "outputs": [],
   "source": [
    "train_loader = DataLoader(rich_data[:int(len(rich_data)*0.9)], batch_size=32, shuffle=True)\n",
    "test_loader = DataLoader(rich_data[int(len(rich_data)*0.9):], batch_size=32, shuffle=True)"
   ]
  },
  {
   "cell_type": "markdown",
   "id": "22ce6e90-1dd1-46b4-a2b8-327a53a7080d",
   "metadata": {},
   "source": [
    "## Train\n",
    "#### Binary Cross Entropy Loss"
   ]
  },
  {
   "cell_type": "code",
   "execution_count": 464,
   "id": "e2e21aff-12f6-4829-88d0-873ee889cc93",
   "metadata": {},
   "outputs": [],
   "source": [
    "model = GCN_binary(hidden_channels=64)\n",
    "optimizer = torch.optim.Adam(model.parameters(), lr=0.01)\n",
    "# loss_fn = torch.nn.CrossEntropyLoss()\n",
    "loss_fn = torch.nn.BCELoss()"
   ]
  },
  {
   "cell_type": "code",
   "execution_count": 465,
   "id": "e9d7ade5-6ada-48a5-be75-ef1fb4bb28f7",
   "metadata": {},
   "outputs": [
    {
     "name": "stdout",
     "output_type": "stream",
     "text": [
      "num model params: 10369\n"
     ]
    }
   ],
   "source": [
    "print('num model params:', count_parameters(model))"
   ]
  },
  {
   "cell_type": "code",
   "execution_count": 466,
   "id": "a349caf1-c498-40a6-a1d3-e99fbb406818",
   "metadata": {},
   "outputs": [
    {
     "name": "stderr",
     "output_type": "stream",
     "text": [
      "100%|███████████████████████████████████████████████████████████████████████████████████████████| 500/500 [14:20<00:00,  1.72s/it]\n"
     ]
    }
   ],
   "source": [
    "epochs = 500\n",
    "\n",
    "losses = []\n",
    "test_scores = []\n",
    "pbar = tqdm(total = epochs, position=0, leave=True)\n",
    "for epoch in range(epochs):\n",
    "    losses.append(  \n",
    "        (  epoch, train_one_epoch_1channel(model, train_loader, optimizer, loss_fn)  )\n",
    "                 )\n",
    "    if epoch % 5 == 0:\n",
    "        test_scores.append((epoch, test_1channel(test_loader)))    \n",
    "        \n",
    "    pbar.update(1)\n",
    "    \n",
    "pbar.close()"
   ]
  },
  {
   "cell_type": "code",
   "execution_count": 467,
   "id": "649253ca-b094-467a-bfb6-5d609e9c5844",
   "metadata": {
    "tags": []
   },
   "outputs": [],
   "source": [
    "binary_losses = losses"
   ]
  },
  {
   "cell_type": "code",
   "execution_count": 468,
   "id": "5ad04d73-00a0-457c-8e64-49fe022c6f77",
   "metadata": {
    "tags": []
   },
   "outputs": [],
   "source": [
    "binary_test_scores = test_scores"
   ]
  },
  {
   "cell_type": "code",
   "execution_count": 469,
   "id": "1eb7f814-e54c-4e82-bdca-7e251b3ce019",
   "metadata": {
    "tags": []
   },
   "outputs": [
    {
     "data": {
      "text/plain": [
       "[(495, 0.20492987199263138),\n",
       " (496, 0.20252607518976384),\n",
       " (497, 0.1958147569136186),\n",
       " (498, 0.20087942643599077),\n",
       " (499, 0.20502471923828125)]"
      ]
     },
     "execution_count": 469,
     "metadata": {},
     "output_type": "execute_result"
    }
   ],
   "source": [
    "binary_losses[-5:]"
   ]
  },
  {
   "cell_type": "code",
   "execution_count": 470,
   "id": "55d4a61e-bd4b-4267-b762-dbcdf9725520",
   "metadata": {},
   "outputs": [
    {
     "data": {
      "text/plain": [
       "[(450, 0.8512820512820513),\n",
       " (455, 0.85),\n",
       " (460, 0.8333333333333334),\n",
       " (465, 0.8538461538461538),\n",
       " (470, 0.8423076923076923),\n",
       " (475, 0.8423076923076923),\n",
       " (480, 0.8461538461538461),\n",
       " (485, 0.8512820512820513),\n",
       " (490, 0.8487179487179487),\n",
       " (495, 0.8487179487179487)]"
      ]
     },
     "execution_count": 470,
     "metadata": {},
     "output_type": "execute_result"
    }
   ],
   "source": [
    "binary_test_scores[-10:]"
   ]
  },
  {
   "cell_type": "code",
   "execution_count": 471,
   "id": "90cd2fcc-2fa5-42ea-a529-2342af587278",
   "metadata": {},
   "outputs": [],
   "source": [
    "binary_model = model"
   ]
  },
  {
   "cell_type": "markdown",
   "id": "ff10da72-f832-4ae5-87f1-c123d0a70f5a",
   "metadata": {},
   "source": [
    "#### Cross Entropy Loss"
   ]
  },
  {
   "cell_type": "code",
   "execution_count": 472,
   "id": "dde69a86-8267-47ab-b842-9087dbe98271",
   "metadata": {},
   "outputs": [],
   "source": [
    "train_loader = DataLoader(rich_data[:int(len(rich_data)*0.9)], batch_size=32, shuffle=True)\n",
    "test_loader = DataLoader(rich_data[int(len(rich_data)*0.9):], batch_size=32, shuffle=True)"
   ]
  },
  {
   "cell_type": "code",
   "execution_count": 473,
   "id": "0a07e9bf-d024-45cf-b35d-d97c38661e3f",
   "metadata": {},
   "outputs": [
    {
     "name": "stdout",
     "output_type": "stream",
     "text": [
      "num model params: 10434\n"
     ]
    }
   ],
   "source": [
    "model = GCN_2channel_out(hidden_channels=64)\n",
    "optimizer = torch.optim.Adam(model.parameters(), lr=0.01)\n",
    "loss_fn = torch.nn.CrossEntropyLoss()\n",
    "\n",
    "print('num model params:', count_parameters(model))"
   ]
  },
  {
   "cell_type": "code",
   "execution_count": 474,
   "id": "095f497f-bf62-4b21-8993-85189c0b984e",
   "metadata": {},
   "outputs": [
    {
     "name": "stderr",
     "output_type": "stream",
     "text": [
      "100%|███████████████████████████████████████████████████████████████████████████████████████████| 500/500 [13:28<00:00,  1.62s/it]\n"
     ]
    }
   ],
   "source": [
    "epochs = 500\n",
    "\n",
    "losses = []\n",
    "test_scores = []\n",
    "pbar = tqdm(total = epochs, position=0, leave=True)\n",
    "for epoch in range(epochs):\n",
    "    losses.append(  \n",
    "        (  epoch, train_one_epoch_2channels(model, train_loader, optimizer, loss_fn)  )\n",
    "                 )\n",
    "    if epoch % 5 == 0:\n",
    "        test_scores.append((epoch, test_2channels(test_loader)))    \n",
    "        \n",
    "    pbar.update(1)\n",
    "    \n",
    "pbar.close()"
   ]
  },
  {
   "cell_type": "code",
   "execution_count": 475,
   "id": "2eb6b37b-19d3-49ff-a658-492c07642dd1",
   "metadata": {},
   "outputs": [],
   "source": [
    "losses_2chan = losses\n",
    "test_scores_2chan = test_scores"
   ]
  },
  {
   "cell_type": "code",
   "execution_count": 476,
   "id": "9c58a88b-ddd7-4ff3-aac5-407b8222812a",
   "metadata": {},
   "outputs": [],
   "source": [
    "model_2chan = model"
   ]
  },
  {
   "cell_type": "code",
   "execution_count": 478,
   "id": "8a7c674c-082e-4f01-8a23-8358804aeb3d",
   "metadata": {},
   "outputs": [
    {
     "data": {
      "text/plain": [
       "[(495, 0.21938018798828124),\n",
       " (496, 0.2179456364024769),\n",
       " (497, 0.2178177920254794),\n",
       " (498, 0.2228319688276811),\n",
       " (499, 0.21928435238924893)]"
      ]
     },
     "execution_count": 478,
     "metadata": {},
     "output_type": "execute_result"
    }
   ],
   "source": [
    "losses_2chan[-5:]"
   ]
  },
  {
   "cell_type": "code",
   "execution_count": 479,
   "id": "87e5d870-cdcd-44b3-a056-e4f830a213c8",
   "metadata": {},
   "outputs": [
    {
     "data": {
      "text/plain": [
       "[(450, 0.8512820512820513),\n",
       " (455, 0.8397435897435898),\n",
       " (460, 0.8538461538461538),\n",
       " (465, 0.85),\n",
       " (470, 0.8474358974358974),\n",
       " (475, 0.8487179487179487),\n",
       " (480, 0.8525641025641025),\n",
       " (485, 0.8564102564102564),\n",
       " (490, 0.8474358974358974),\n",
       " (495, 0.8551282051282051)]"
      ]
     },
     "execution_count": 479,
     "metadata": {},
     "output_type": "execute_result"
    }
   ],
   "source": [
    "test_scores_2chan[-10:]"
   ]
  },
  {
   "cell_type": "code",
   "execution_count": 482,
   "id": "b1a2db58-0bfc-406c-b1ed-63dd86be2170",
   "metadata": {},
   "outputs": [
    {
     "data": {
      "text/plain": [
       "<matplotlib.legend.Legend at 0x7f8f1c713700>"
      ]
     },
     "execution_count": 482,
     "metadata": {},
     "output_type": "execute_result"
    },
    {
     "data": {
      "image/png": "[encoded data removed]",
      "text/plain": [
       "<Figure size 432x288 with 1 Axes>"
      ]
     },
     "metadata": {
      "needs_background": "light"
     },
     "output_type": "display_data"
    }
   ],
   "source": [
    "### Vis\n",
    "losses_2chan = np.array(losses_2chan)\n",
    "binary_losses = np.array(binary_losses)\n",
    "\n",
    "\n",
    "plt.scatter(losses_2chan[:,0],losses_2chan[:,1] , label='2 channel')\n",
    "plt.scatter(binary_losses[:,0],binary_losses[:,1] , label='1 channel')\n",
    "\n",
    "plt.legend()"
   ]
  },
  {
   "cell_type": "code",
   "execution_count": 483,
   "id": "aa097e3e-f8e7-45aa-919b-56c99fe26add",
   "metadata": {},
   "outputs": [
    {
     "data": {
      "text/plain": [
       "<matplotlib.legend.Legend at 0x7f8f1a094220>"
      ]
     },
     "execution_count": 483,
     "metadata": {},
     "output_type": "execute_result"
    },
    {
     "data": {
      "image/png": "[encoded data removed]",
      "text/plain": [
       "<Figure size 432x288 with 1 Axes>"
      ]
     },
     "metadata": {
      "needs_background": "light"
     },
     "output_type": "display_data"
    }
   ],
   "source": [
    "### Vis\n",
    "test_scores_2chan = np.array(test_scores_2chan)\n",
    "binary_test_scores = np.array(binary_test_scores)\n",
    "\n",
    "\n",
    "plt.scatter(test_scores_2chan[:,0],test_scores_2chan[:,1] , label='2 channel')\n",
    "plt.scatter(binary_test_scores[:,0],binary_test_scores[:,1] , label='1 channel')\n",
    "\n",
    "plt.legend()"
   ]
  },
  {
   "cell_type": "markdown",
   "id": "162f689e-5eae-4eda-b374-c45a905c28b0",
   "metadata": {},
   "source": [
    "# Hyperparameter exploration\n",
    "In order to get *some* idea of optimal hyperparameters, we test learning rate and number of  We run the model for 75 epochs per hyper-parameter permutation, saving the training loss and test accuracy at each epoch and every 5th epoch respectively/"
   ]
  },
  {
   "cell_type": "code",
   "execution_count": 494,
   "id": "ac3f9f90-fa26-49e1-b465-e647fb912c06",
   "metadata": {},
   "outputs": [
    {
     "name": "stderr",
     "output_type": "stream",
     "text": [
      "  4%|███▊                                                                                      | 129/3000 [02:40<59:28,  1.24s/it]\n",
      "100%|███████████████████████████████████████████████████████████████████████████████████████| 3000/3000 [1:17:52<00:00,  1.56s/it]\n"
     ]
    }
   ],
   "source": [
    "# test all these hyperparams for Adam and SGD optimizers\n",
    "lrs = [0.001, 0.0025, 0.005, 0.0075, 0.01, 0.025, 0.05, 0.1]\n",
    "channels = [8, 16, 32, 64, 128]\n",
    "\n",
    "epochs = 75\n",
    "\n",
    "rich_data = torch.load('rich_dataset.pt') # 30 node features, 11 edge features\n",
    "random.seed(1)\n",
    "random.shuffle(rich_data)\n",
    "\n",
    "train_loader = DataLoader(rich_data[:int(len(rich_data)*0.9)], batch_size=32, shuffle=True)\n",
    "test_loader = DataLoader(rich_data[int(len(rich_data)*0.9):], batch_size=32, shuffle=True)\n",
    "\n",
    "total = len(lrs) * len(channels) * epochs\n",
    "pbar = tqdm(total=total , position=0, leave=True)\n",
    "\n",
    "res_dict = {}\n",
    "for lr in lrs:\n",
    "    \n",
    "    for n_chans in channels:\n",
    "        \n",
    "        model = GCN_binary(hidden_channels=n_chans)\n",
    "        optimizer = torch.optim.Adam(model.parameters(), lr=lr)\n",
    "        loss_fn = torch.nn.BCELoss()\n",
    "        \n",
    "        losses = []\n",
    "        test_scores = []\n",
    "        for epoch in range(epochs):\n",
    "            losses.append(  \n",
    "                (  epoch, train_one_epoch_1channel(model, train_loader, optimizer, loss_fn)  )\n",
    "            )\n",
    "            if epoch % 5 == 0:\n",
    "                test_scores.append((epoch, test_1channel(test_loader)))    \n",
    "            pbar.update(1)\n",
    "            \n",
    "        res_dict[str(lr)+'_'+str(n_chans)] = [losses, test_scores]\n",
    "        \n",
    "pbar.close() "
   ]
  },
  {
   "cell_type": "code",
   "execution_count": 495,
   "id": "74687d65-598e-40d9-8528-fca453669927",
   "metadata": {},
   "outputs": [],
   "source": [
    "torch.save(res_dict, 'ADAM_optim_hyperparam_search.pt')"
   ]
  },
  {
   "cell_type": "code",
   "execution_count": 497,
   "id": "c8fa1d01-c673-4a48-8329-b880c575be43",
   "metadata": {},
   "outputs": [],
   "source": [
    "results = []\n",
    "for key, value in res_dict.items():\n",
    "    max_score = np.array(value[1])[:,1].max()\n",
    "    results.append( [key, max_score] )"
   ]
  },
  {
   "cell_type": "code",
   "execution_count": 572,
   "id": "46d3f7cf-3ef8-4cd6-8f70-87b42f7da0ee",
   "metadata": {
    "tags": []
   },
   "outputs": [
    {
     "data": {
      "text/plain": [
       "[['0.001_64', 0.867948717948718],\n",
       " ['0.0025_128', 0.8666666666666667],\n",
       " ['0.01_64', 0.8653846153846154],\n",
       " ['0.005_64', 0.8641025641025641],\n",
       " ['0.005_128', 0.8628205128205129]]"
      ]
     },
     "execution_count": 572,
     "metadata": {},
     "output_type": "execute_result"
    }
   ],
   "source": [
    "# BEST:\n",
    "sorted(results, key=lambda x: x[1], reverse=True)[:5]"
   ]
  },
  {
   "cell_type": "code",
   "execution_count": 573,
   "id": "b8db353e-c87c-4e34-958d-a8565b69b996",
   "metadata": {},
   "outputs": [
    {
     "data": {
      "text/plain": [
       "[['0.1_8', 0.617948717948718],\n",
       " ['0.1_16', 0.617948717948718],\n",
       " ['0.1_32', 0.617948717948718],\n",
       " ['0.1_64', 0.617948717948718],\n",
       " ['0.1_128', 0.617948717948718]]"
      ]
     },
     "execution_count": 573,
     "metadata": {},
     "output_type": "execute_result"
    }
   ],
   "source": [
    "# WORST:\n",
    "sorted(results, key=lambda x: x[1], reverse=True)[-5:]"
   ]
  },
  {
   "cell_type": "markdown",
   "id": "815b658e-499b-453b-ab51-9b09e223fd52",
   "metadata": {},
   "source": [
    "### 'Correlation Matrix'\n",
    "(I don't think this is a rigorously defined correlation matrix)"
   ]
  },
  {
   "cell_type": "code",
   "execution_count": 608,
   "id": "2c673572-9ff1-4a23-8bed-a949207b0677",
   "metadata": {},
   "outputs": [],
   "source": [
    "import matplotlib\n",
    "import matplotlib.cm as cm"
   ]
  },
  {
   "cell_type": "code",
   "execution_count": 609,
   "id": "f0554812-9876-4945-b048-0a2348c59001",
   "metadata": {
    "tags": []
   },
   "outputs": [],
   "source": [
    "lrs = [0.001, 0.0025, 0.005, 0.0075, 0.01, 0.025, 0.05, 0.1]\n",
    "channels = [8, 16, 32, 64, 128]\n",
    "\n",
    "vals = np.zeros( (len(lrs),len(channels) ))\n",
    "\n",
    "for key, value in res_dict.items():\n",
    "    max_score = np.array(value[1])[:,1].max()\n",
    "    \n",
    "    hyp_list = key.split('_')\n",
    "    i = float(hyp_list[0])\n",
    "    j = float(hyp_list[1])\n",
    "    \n",
    "    vals[lrs.index(i),channels.index(j)] = max_score"
   ]
  },
  {
   "cell_type": "code",
   "execution_count": 610,
   "id": "8bbb57fd-b216-4127-9202-f96d6884af59",
   "metadata": {},
   "outputs": [
    {
     "data": {
      "text/plain": [
       "array([[0.83205128, 0.83974359, 0.85897436, 0.86794872, 0.86153846],\n",
       "       [0.84230769, 0.84358974, 0.8525641 , 0.85897436, 0.86666667],\n",
       "       [0.83717949, 0.86025641, 0.85512821, 0.86410256, 0.86282051],\n",
       "       [0.83333333, 0.85512821, 0.85897436, 0.85897436, 0.86153846],\n",
       "       [0.83589744, 0.85641026, 0.85641026, 0.86538462, 0.85512821],\n",
       "       [0.84487179, 0.85384615, 0.85      , 0.84615385, 0.83076923],\n",
       "       [0.81923077, 0.81410256, 0.81923077, 0.61794872, 0.61794872],\n",
       "       [0.61794872, 0.61794872, 0.61794872, 0.61794872, 0.61794872]])"
      ]
     },
     "execution_count": 610,
     "metadata": {},
     "output_type": "execute_result"
    }
   ],
   "source": [
    "vals"
   ]
  },
  {
   "cell_type": "code",
   "execution_count": 620,
   "id": "86c5fba1-a3e5-4a4f-af53-4d4377f4a8cb",
   "metadata": {},
   "outputs": [],
   "source": [
    "minima = vals.min()\n",
    "maxima = vals.max()\n",
    "\n",
    "norm = matplotlib.colors.Normalize(vmin=minima, vmax=maxima, clip=True)\n",
    "\n",
    "mapper = cm.ScalarMappable(norm=norm, cmap=cm.RdYlGn)\n",
    "colors = mapper.to_rgba(vals)"
   ]
  },
  {
   "cell_type": "code",
   "execution_count": 658,
   "id": "bfdd4086-aa5f-4e4a-8a86-96cd683c2479",
   "metadata": {},
   "outputs": [
    {
     "data": {
      "text/plain": [
       "Text(0.5, 1.0, 'Best Test Accuracy for GCN Hyperparameter Search')"
      ]
     },
     "execution_count": 658,
     "metadata": {},
     "output_type": "execute_result"
    },
    {
     "data": {
      "image/png": "[encoded data removed]",
      "text/plain": [
       "<Figure size 1440x576 with 1 Axes>"
      ]
     },
     "metadata": {
      "needs_background": "light"
     },
     "output_type": "display_data"
    }
   ],
   "source": [
    "plt.rcParams['figure.figsize'] = (20,8)\n",
    "fig, ax = plt.subplots()\n",
    "\n",
    "ax.set_axis_off() \n",
    "tab = ax.table(\n",
    "    cellText=np.around(vals, 4),\n",
    "    rowLabels=lrs,\n",
    "    colLabels=channels,\n",
    "    rowColours =['lightgray'] * len(lrs),  \n",
    "    colColours =['lightgray'] * len(channels),  \n",
    "    loc ='upper left',\n",
    "    cellLoc='center',\n",
    "    cellColours=colors\n",
    ")\n",
    "\n",
    "tab.scale(0.8, 4)\n",
    "tab.set_fontsize(15)\n",
    "ax.set_title('Best Test Accuracy for GCN Hyperparameter Search', fontweight ='bold', fontdict={'fontsize': 25})"
   ]
  },
  {
   "cell_type": "markdown",
   "id": "c8caae72-6b8f-4e8b-8007-01ce4624d048",
   "metadata": {},
   "source": [
    "The above figure plots the best test accuracy performance for each learning rate (rows) and number of hidden layers (cols). "
   ]
  },
  {
   "cell_type": "markdown",
   "id": "31bc1c02-df38-46b4-b08f-f5ff2dc8ea58",
   "metadata": {
    "tags": []
   },
   "source": [
    "### Analysis:\n",
    "A deeper look into the results reveals that the number of hidden layers should be somewhere between 64 and 128\n",
    "and that a learning rate too high has significant negative effects on performance. There is a trend up and to the right, indicating that in general, a lower learning rate and higher number of hidden channels performs better. \n",
    "\n",
    "The best results seem to come from higher number of hidden channels with relatively low learning rate. The optimal ranges seem to be:\n",
    " * hidden channels >= 16\n",
    " * learning rate <=  0.025\n",
    "Since the best results fall at the edges of the hyperparameter search that we conducted, a logical next step with more time would be to extend the hyperparameter search to learning rates lower than 0.001 and hidden channels greater than 128.\n",
    "\n",
    "For our final model(s) that we will train on a greater number of epochs, we will choose:\n",
    " * hidden channels - 64 or 128\n",
    " * learning rate - 0.001 or 0.0025\n",
    "\n",
    "There is something of an anomoly in the results where the best test accuracy is 0.6179. It seems improbable that the exact same best score would occur in all of these separate trainings with different hidden channel sizes. My guess is that somewhere on the 'true' decision surface, some of the graphs are relatively easy to classify and others are harder, and that there is some key feature (or features) being learned by models with lower learning rate that models with high learning rate 'skip over'.\n",
    "\n",
    "It should be noted that the hyper-parameter search was only run on 75 epochs per hyperparameter permutation so it is possible that this is not entirely representative of the hyperparameter space."
   ]
  },
  {
   "cell_type": "markdown",
   "id": "8a2675cc-a9d5-4207-9614-010cc8ccc2d2",
   "metadata": {
    "tags": []
   },
   "source": [
    "## Save Model\n",
    "Code to save a model's state dict."
   ]
  },
  {
   "cell_type": "code",
   "execution_count": 480,
   "id": "893c1110-ad0b-4b07-bee7-d4d32bdd363a",
   "metadata": {},
   "outputs": [],
   "source": [
    "path = '/Users/maxperozek/CP341/Proj/CP341_B722_GNN/models/'"
   ]
  },
  {
   "cell_type": "code",
   "execution_count": 660,
   "id": "4756fd8c-575a-4c3f-96eb-8e6db93659ff",
   "metadata": {},
   "outputs": [],
   "source": [
    "save = False\n",
    "\n",
    "model_to_save = binary_model\n",
    "if save:\n",
    "    torch.save(model_to_save.state_dict(), path+'GNN_500epoch_state_dict.pt')"
   ]
  },
  {
   "cell_type": "code",
   "execution_count": null,
   "id": "2ad62bce-349f-4147-85a1-d5875245b9fa",
   "metadata": {},
   "outputs": [],
   "source": []
  }
 ],
 "metadata": {
  "kernelspec": {
   "display_name": "Python 3 (ipykernel)",
   "language": "python",
   "name": "python3"
  },
  "language_info": {
   "codemirror_mode": {
    "name": "ipython",
    "version": 3
   },
   "file_extension": ".py",
   "mimetype": "text/x-python",
   "name": "python",
   "nbconvert_exporter": "python",
   "pygments_lexer": "ipython3",
   "version": "3.9.12"
  }
 },
 "nbformat": 4,
 "nbformat_minor": 5
}
