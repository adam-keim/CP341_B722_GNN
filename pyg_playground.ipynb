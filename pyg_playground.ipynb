{
 "cells": [
  {
   "cell_type": "code",
   "execution_count": 133,
   "id": "1ce11e47-318b-4293-9c96-d4bda137baf5",
   "metadata": {},
   "outputs": [],
   "source": [
    "import torch\n",
    "import numpy as np\n",
    "import matplotlib.pyplot as plt\n",
    "import torch_geometric as tgn\n",
    "from torch.nn import Sequential as Seq, Linear, ReLU\n",
    "from torch_geometric.utils import add_self_loops, degree\n",
    "from torch_geometric.nn import MessagePassing\n",
    "from torch_geometric.data import Data\n",
    "import torch.nn.functional as F\n",
    "\n",
    "from torch_geometric.loader import DataLoader\n",
    "\n",
    "from torch_geometric.nn import GCNConv\n",
    "from torch_geometric.nn import global_mean_pool\n",
    "\n",
    "from tqdm import tqdm"
   ]
  },
  {
   "cell_type": "markdown",
   "id": "ec09bfa4-93d4-455b-b2ce-56061024d0dd",
   "metadata": {},
   "source": [
    "# Model Definition"
   ]
  },
  {
   "cell_type": "code",
   "execution_count": 238,
   "id": "e26da9f2-a970-4c08-9f8e-48e6c870e25b",
   "metadata": {},
   "outputs": [],
   "source": [
    "class GCN(torch.nn.Module):\n",
    "    def __init__(self, hidden_channels):\n",
    "        super(GCN, self).__init__()\n",
    "        torch.manual_seed(12345)\n",
    "        self.conv1 = GCNConv(30, hidden_channels)\n",
    "        self.conv2 = GCNConv(hidden_channels, hidden_channels)\n",
    "        self.conv3 = GCNConv(hidden_channels, hidden_channels)\n",
    "        self.lin = Linear(hidden_channels, 2)\n",
    "\n",
    "    def forward(self, x, edge_index, batch):\n",
    "        # 1. Obtain node embeddings \n",
    "        x = self.conv1(x, edge_index)\n",
    "        x = x.relu()\n",
    "        x = self.conv2(x, edge_index)\n",
    "        x = x.relu()\n",
    "        x = self.conv3(x, edge_index)\n",
    "\n",
    "        # 2. Readout layer\n",
    "        x = global_mean_pool(x, batch)  # [batch_size, hidden_channels]\n",
    "\n",
    "        # 3. Apply a final classifier\n",
    "        x = F.dropout(x, p=0.5, training=self.training)\n",
    "        x = self.lin(x)\n",
    "        \n",
    "        return x"
   ]
  },
  {
   "cell_type": "markdown",
   "id": "5c465aa0-7fde-4b4a-a1e6-c2492b8612ae",
   "metadata": {},
   "source": [
    "# Training and Helper Methods"
   ]
  },
  {
   "cell_type": "code",
   "execution_count": 192,
   "id": "835d60e2-6926-4a3f-a974-168da5bf72e1",
   "metadata": {},
   "outputs": [],
   "source": [
    "def train_one_epoch(model, data_loader, optimizer, loss_fn):\n",
    "    \n",
    "    for _, batch in enumerate(data_loader):\n",
    "        optimizer.zero_grad()\n",
    "        model_out = model(batch.x.float(), batch.edge_index, batch.batch)\n",
    "        # loss = loss_fn(torch.squeeze(model_out), batch.y.float())\n",
    "        loss = loss_fn(model_out, batch.y)\n",
    "\n",
    "        loss.backward()  \n",
    "        optimizer.step()\n",
    "    \n",
    "    return loss\n",
    "    "
   ]
  },
  {
   "cell_type": "code",
   "execution_count": 193,
   "id": "f99e97a4-66b6-4ce8-93ec-8383c0f2cf43",
   "metadata": {},
   "outputs": [],
   "source": [
    "def count_parameters(model):\n",
    "    return sum(p.numel() for p in model.parameters() if p.requires_grad)"
   ]
  },
  {
   "cell_type": "code",
   "execution_count": 203,
   "id": "3b38fa63-52ff-48b8-9b6c-b9c2a6307638",
   "metadata": {},
   "outputs": [],
   "source": [
    "def test(loader):\n",
    "    model.eval()\n",
    "    correct = 0\n",
    "    for data in loader:\n",
    "        out = model(data.x.float(), data.edge_index, data.batch)  \n",
    "        pred = out.argmax(dim=1)  # Use the class with highest probability.\n",
    "        correct += int((pred == data.y).sum())  # Check against ground-truth labels.\n",
    "    return correct / len(loader.dataset)  # Derive ratio of correct predictions."
   ]
  },
  {
   "cell_type": "markdown",
   "id": "a11f36fa-7bc9-4f00-8f61-b794918b554d",
   "metadata": {},
   "source": [
    "# Message Passing Pyg Experiments"
   ]
  },
  {
   "cell_type": "markdown",
   "id": "58de23dd-5916-438a-be14-a44637340aad",
   "metadata": {},
   "source": [
    "### Rich Dataset"
   ]
  },
  {
   "cell_type": "code",
   "execution_count": 244,
   "id": "a530fc1c-faef-42b7-ac6e-dd833af0eb8d",
   "metadata": {},
   "outputs": [],
   "source": [
    "import random\n",
    "random.seed(1)"
   ]
  },
  {
   "cell_type": "code",
   "execution_count": 245,
   "id": "d22e08a4-3d00-4165-96a2-2f8d995c7c99",
   "metadata": {},
   "outputs": [],
   "source": [
    "rich_data = torch.load('rich_dataset.pt') # 30 node features, 11 edge features"
   ]
  },
  {
   "cell_type": "code",
   "execution_count": 246,
   "id": "7a758d9a-71b8-4036-9f9a-7d22f553b02f",
   "metadata": {},
   "outputs": [],
   "source": [
    "random.shuffle(rich_data)"
   ]
  },
  {
   "cell_type": "code",
   "execution_count": 247,
   "id": "2efef0c1-0d00-4b84-8524-09a9cf623515",
   "metadata": {},
   "outputs": [],
   "source": [
    "train_loader = DataLoader(rich_data[:int(len(rich_data)*0.9)], batch_size=32, shuffle=True)\n",
    "test_loader = DataLoader(rich_data[:int(len(rich_data)*0.9)], batch_size=32, shuffle=True)"
   ]
  },
  {
   "cell_type": "markdown",
   "id": "b267fa24-03ab-468b-9d5c-3d6309bc1bb1",
   "metadata": {},
   "source": [
    "### Simple Dataset"
   ]
  },
  {
   "cell_type": "code",
   "execution_count": 226,
   "id": "bbeff239-2f3b-48e6-9be5-d85ec1856d92",
   "metadata": {},
   "outputs": [],
   "source": [
    "# data_list = torch.load('tensor_list.pt')\n",
    "\n",
    "data_list = torch.load('tensor_list_node_labels.pt')"
   ]
  },
  {
   "cell_type": "code",
   "execution_count": 204,
   "id": "973f50e7-c083-40f2-8170-871700e50bc6",
   "metadata": {},
   "outputs": [],
   "source": [
    "train_loader = DataLoader(data_list[:int(len(data_list)*0.9)], batch_size=32, shuffle=True)\n",
    "test_loader = DataLoader(data_list[:int(len(data_list)*0.9)], batch_size=32, shuffle=True)"
   ]
  },
  {
   "cell_type": "markdown",
   "id": "22ce6e90-1dd1-46b4-a2b8-327a53a7080d",
   "metadata": {},
   "source": [
    "## Train"
   ]
  },
  {
   "cell_type": "code",
   "execution_count": 248,
   "id": "e2e21aff-12f6-4829-88d0-873ee889cc93",
   "metadata": {},
   "outputs": [],
   "source": [
    "model = GCN(hidden_channels=64)\n",
    "optimizer = torch.optim.Adam(model.parameters(), lr=0.01)\n",
    "loss_fn = torch.nn.CrossEntropyLoss() \n",
    "# *** NOTE on loss function *** I think Cross Entropy Loss requires a different output channel for each class ***"
   ]
  },
  {
   "cell_type": "code",
   "execution_count": 249,
   "id": "a349caf1-c498-40a6-a1d3-e99fbb406818",
   "metadata": {},
   "outputs": [
    {
     "name": "stderr",
     "output_type": "stream",
     "text": [
      "100%|███████████████████████████████████████████████████████████████████████████████████████████| 500/500 [23:44<00:00,  2.85s/it]\n"
     ]
    }
   ],
   "source": [
    "epochs = 500\n",
    "\n",
    "model.train()\n",
    "\n",
    "losses = []\n",
    "test_scores = []\n",
    "pbar = tqdm(total = epochs, position=0, leave=True)\n",
    "for epoch in range(epochs):\n",
    "    losses.append(train_one_epoch(model, train_loader, optimizer, loss_fn))\n",
    "    test_scores.append(test(test_loader))\n",
    "    pbar.update(1)\n",
    "pbar.close()"
   ]
  },
  {
   "cell_type": "code",
   "execution_count": 251,
   "id": "7041afdc-ab56-42bd-ac05-b186d72db448",
   "metadata": {},
   "outputs": [],
   "source": [
    "GCN_losses = losses"
   ]
  },
  {
   "cell_type": "code",
   "execution_count": 252,
   "id": "893c1110-ad0b-4b07-bee7-d4d32bdd363a",
   "metadata": {},
   "outputs": [],
   "source": [
    "path = '/Users/maxperozek/CP341/Proj/CP341_B722_GNN/models/'"
   ]
  },
  {
   "cell_type": "code",
   "execution_count": 253,
   "id": "4756fd8c-575a-4c3f-96eb-8e6db93659ff",
   "metadata": {},
   "outputs": [],
   "source": [
    "torch.save(model.state_dict(), path+'GNN_1_state_dict.pt')"
   ]
  },
  {
   "cell_type": "code",
   "execution_count": 254,
   "id": "eb2e2450-a88e-4e59-974c-fbff10930b75",
   "metadata": {},
   "outputs": [
    {
     "data": {
      "text/plain": [
       "<matplotlib.legend.Legend at 0x7f8ef6d2c520>"
      ]
     },
     "execution_count": 254,
     "metadata": {},
     "output_type": "execute_result"
    },
    {
     "data": {
      "image/png": "[encoded data removed]",
      "text/plain": [
       "<Figure size 432x288 with 1 Axes>"
      ]
     },
     "metadata": {
      "needs_background": "light"
     },
     "output_type": "display_data"
    }
   ],
   "source": [
    "epochs = len(GCN_losses)\n",
    "y = [item.detach().numpy() for item in GCN_losses]\n",
    "\n",
    "\n",
    "plt.scatter(range(epochs), y, label='GCN')\n",
    "plt.legend()"
   ]
  },
  {
   "cell_type": "code",
   "execution_count": 255,
   "id": "f68c83ac-b559-47a9-8fd2-c8fb2641def8",
   "metadata": {},
   "outputs": [
    {
     "data": {
      "text/plain": [
       "[0.8028490028490028,\n",
       " 0.7927350427350427,\n",
       " 0.8150997150997151,\n",
       " 0.8216524216524217,\n",
       " 0.8250712250712251,\n",
       " 0.8179487179487179,\n",
       " 0.8279202279202279,\n",
       " 0.8162393162393162,\n",
       " 0.8334757834757834,\n",
       " 0.8264957264957264,\n",
       " 0.8367521367521368,\n",
       " 0.834045584045584,\n",
       " 0.8309116809116809,\n",
       " 0.8396011396011396,\n",
       " 0.8344729344729345,\n",
       " 0.8423076923076923,\n",
       " 0.8447293447293447,\n",
       " 0.834045584045584,\n",
       " 0.8415954415954416,\n",
       " 0.846011396011396,\n",
       " 0.8490028490028491,\n",
       " 0.8535612535612536,\n",
       " 0.8525641025641025,\n",
       " 0.8319088319088319,\n",
       " 0.8490028490028491,\n",
       " 0.8443019943019943,\n",
       " 0.8477207977207977,\n",
       " 0.8461538461538461,\n",
       " 0.8498575498575499,\n",
       " 0.848005698005698,\n",
       " 0.8581196581196581,\n",
       " 0.8514245014245014,\n",
       " 0.8374643874643874,\n",
       " 0.8601139601139601,\n",
       " 0.8542735042735042,\n",
       " 0.8676638176638176,\n",
       " 0.8648148148148148,\n",
       " 0.8512820512820513,\n",
       " 0.8521367521367521,\n",
       " 0.860968660968661,\n",
       " 0.8643874643874644,\n",
       " 0.8564102564102564,\n",
       " 0.8650997150997151,\n",
       " 0.8548433048433048,\n",
       " 0.8598290598290599,\n",
       " 0.8663817663817663,\n",
       " 0.8650997150997151,\n",
       " 0.8616809116809117,\n",
       " 0.8669515669515669,\n",
       " 0.861965811965812,\n",
       " 0.8688034188034188,\n",
       " 0.8665242165242165,\n",
       " 0.8666666666666667,\n",
       " 0.8723646723646724,\n",
       " 0.8730769230769231,\n",
       " 0.8735042735042735,\n",
       " 0.8754985754985755,\n",
       " 0.8699430199430199,\n",
       " 0.8759259259259259,\n",
       " 0.8742165242165242,\n",
       " 0.8696581196581197,\n",
       " 0.8736467236467237,\n",
       " 0.8726495726495727,\n",
       " 0.8732193732193733,\n",
       " 0.8797720797720797,\n",
       " 0.870940170940171,\n",
       " 0.8716524216524216,\n",
       " 0.8722222222222222,\n",
       " 0.8732193732193733,\n",
       " 0.8752136752136752,\n",
       " 0.8727920227920228,\n",
       " 0.8753561253561254,\n",
       " 0.882051282051282,\n",
       " 0.8757834757834758,\n",
       " 0.8752136752136752,\n",
       " 0.8804843304843305,\n",
       " 0.8839031339031339,\n",
       " 0.8797720797720797,\n",
       " 0.8826210826210826,\n",
       " 0.8851851851851852,\n",
       " 0.8836182336182337,\n",
       " 0.8811965811965812,\n",
       " 0.8747863247863248,\n",
       " 0.882051282051282,\n",
       " 0.885042735042735,\n",
       " 0.8789173789173789,\n",
       " 0.8817663817663818,\n",
       " 0.8757834757834758,\n",
       " 0.8863247863247863,\n",
       " 0.8792022792022792,\n",
       " 0.8801994301994301,\n",
       " 0.8868945868945869,\n",
       " 0.8886039886039886,\n",
       " 0.8794871794871795,\n",
       " 0.8789173789173789,\n",
       " 0.892022792022792,\n",
       " 0.8836182336182337,\n",
       " 0.8857549857549858,\n",
       " 0.8915954415954416,\n",
       " 0.8896011396011396,\n",
       " 0.8887464387464388,\n",
       " 0.8884615384615384,\n",
       " 0.8935897435897436,\n",
       " 0.8871794871794871,\n",
       " 0.8874643874643875,\n",
       " 0.8893162393162393,\n",
       " 0.8893162393162393,\n",
       " 0.8903133903133903,\n",
       " 0.889031339031339,\n",
       " 0.8796296296296297,\n",
       " 0.8874643874643875,\n",
       " 0.8940170940170941,\n",
       " 0.8870370370370371,\n",
       " 0.8917378917378918,\n",
       " 0.8883190883190883,\n",
       " 0.8883190883190883,\n",
       " 0.8881766381766382,\n",
       " 0.8937321937321937,\n",
       " 0.895014245014245,\n",
       " 0.8931623931623932,\n",
       " 0.8878917378917379,\n",
       " 0.8955840455840456,\n",
       " 0.8924501424501424,\n",
       " 0.8937321937321937,\n",
       " 0.8853276353276354,\n",
       " 0.9009971509971509,\n",
       " 0.8961538461538462,\n",
       " 0.8886039886039886,\n",
       " 0.8891737891737892,\n",
       " 0.9,\n",
       " 0.8958689458689458,\n",
       " 0.8967236467236467,\n",
       " 0.8940170940170941,\n",
       " 0.8911680911680911,\n",
       " 0.8914529914529915,\n",
       " 0.8964387464387464,\n",
       " 0.8843304843304843,\n",
       " 0.8957264957264958,\n",
       " 0.8847578347578348,\n",
       " 0.8908831908831909,\n",
       " 0.8943019943019943,\n",
       " 0.895014245014245,\n",
       " 0.8991452991452992,\n",
       " 0.9015669515669515,\n",
       " 0.9027065527065528,\n",
       " 0.8967236467236467,\n",
       " 0.9015669515669515,\n",
       " 0.8873219373219373,\n",
       " 0.9012820512820513,\n",
       " 0.8984330484330484,\n",
       " 0.8955840455840456,\n",
       " 0.9047008547008547,\n",
       " 0.8972934472934473,\n",
       " 0.9001424501424501,\n",
       " 0.9032763532763532,\n",
       " 0.9041310541310541,\n",
       " 0.9005698005698005,\n",
       " 0.9,\n",
       " 0.8988603988603988,\n",
       " 0.8982905982905983,\n",
       " 0.8988603988603988,\n",
       " 0.9066951566951567,\n",
       " 0.8974358974358975,\n",
       " 0.9027065527065528,\n",
       " 0.8982905982905983,\n",
       " 0.8943019943019943,\n",
       " 0.9,\n",
       " 0.9055555555555556,\n",
       " 0.898005698005698,\n",
       " 0.9015669515669515,\n",
       " 0.9002849002849003,\n",
       " 0.8881766381766382,\n",
       " 0.9066951566951567,\n",
       " 0.8954415954415954,\n",
       " 0.9065527065527066,\n",
       " 0.9051282051282051,\n",
       " 0.8985754985754986,\n",
       " 0.9031339031339032,\n",
       " 0.8968660968660969,\n",
       " 0.9081196581196581,\n",
       " 0.8965811965811966,\n",
       " 0.9001424501424501,\n",
       " 0.9012820512820513,\n",
       " 0.901994301994302,\n",
       " 0.9064102564102564,\n",
       " 0.9064102564102564,\n",
       " 0.8974358974358975,\n",
       " 0.9022792022792023,\n",
       " 0.8935897435897436,\n",
       " 0.903988603988604,\n",
       " 0.8913105413105413,\n",
       " 0.9041310541310541,\n",
       " 0.9079772079772079,\n",
       " 0.9021367521367522,\n",
       " 0.8995726495726496,\n",
       " 0.904985754985755,\n",
       " 0.9008547008547009,\n",
       " 0.9024216524216524,\n",
       " 0.90997150997151,\n",
       " 0.9084045584045584,\n",
       " 0.906980056980057,\n",
       " 0.9082621082621083,\n",
       " 0.8992877492877492,\n",
       " 0.9045584045584045,\n",
       " 0.8857549857549858,\n",
       " 0.9064102564102564,\n",
       " 0.9028490028490028,\n",
       " 0.9085470085470085,\n",
       " 0.908974358974359,\n",
       " 0.9064102564102564,\n",
       " 0.8967236467236467,\n",
       " 0.9028490028490028,\n",
       " 0.9064102564102564,\n",
       " 0.9064102564102564,\n",
       " 0.9098290598290598,\n",
       " 0.9037037037037037,\n",
       " 0.9081196581196581,\n",
       " 0.8935897435897436,\n",
       " 0.9081196581196581,\n",
       " 0.9037037037037037,\n",
       " 0.902991452991453,\n",
       " 0.9066951566951567,\n",
       " 0.9027065527065528,\n",
       " 0.9045584045584045,\n",
       " 0.9034188034188034,\n",
       " 0.9088319088319088,\n",
       " 0.9074074074074074,\n",
       " 0.9071225071225071,\n",
       " 0.9085470085470085,\n",
       " 0.9108262108262108,\n",
       " 0.9038461538461539,\n",
       " 0.9113960113960113,\n",
       " 0.912962962962963,\n",
       " 0.9111111111111111,\n",
       " 0.9102564102564102,\n",
       " 0.911965811965812,\n",
       " 0.9101139601139601,\n",
       " 0.9014245014245015,\n",
       " 0.9095441595441596,\n",
       " 0.9113960113960113,\n",
       " 0.9111111111111111,\n",
       " 0.9101139601139601,\n",
       " 0.9138176638176638,\n",
       " 0.911965811965812,\n",
       " 0.9051282051282051,\n",
       " 0.9118233618233619,\n",
       " 0.9125356125356126,\n",
       " 0.9088319088319088,\n",
       " 0.9061253561253562,\n",
       " 0.9155270655270655,\n",
       " 0.9138176638176638,\n",
       " 0.9121082621082621,\n",
       " 0.9158119658119658,\n",
       " 0.9075498575498575,\n",
       " 0.9142450142450143,\n",
       " 0.9126780626780627,\n",
       " 0.9071225071225071,\n",
       " 0.9058404558404558,\n",
       " 0.912962962962963,\n",
       " 0.9113960113960113,\n",
       " 0.9081196581196581,\n",
       " 0.90997150997151,\n",
       " 0.9125356125356126,\n",
       " 0.9054131054131054,\n",
       " 0.9162393162393162,\n",
       " 0.9034188034188034,\n",
       " 0.9084045584045584,\n",
       " 0.9166666666666666,\n",
       " 0.9111111111111111,\n",
       " 0.9111111111111111,\n",
       " 0.9175213675213675,\n",
       " 0.9188034188034188,\n",
       " 0.9128205128205128,\n",
       " 0.9142450142450143,\n",
       " 0.9165242165242166,\n",
       " 0.9112535612535613,\n",
       " 0.9111111111111111,\n",
       " 0.912962962962963,\n",
       " 0.9084045584045584,\n",
       " 0.9123931623931624,\n",
       " 0.9113960113960113,\n",
       " 0.9136752136752136,\n",
       " 0.9132478632478632,\n",
       " 0.9172364672364672,\n",
       " 0.9160968660968661,\n",
       " 0.9162393162393162,\n",
       " 0.9088319088319088,\n",
       " 0.9145299145299145,\n",
       " 0.9143874643874644,\n",
       " 0.915954415954416,\n",
       " 0.9175213675213675,\n",
       " 0.9148148148148149,\n",
       " 0.9156695156695157,\n",
       " 0.9035612535612536,\n",
       " 0.9054131054131054,\n",
       " 0.9156695156695157,\n",
       " 0.9071225071225071,\n",
       " 0.9162393162393162,\n",
       " 0.9176638176638177,\n",
       " 0.9131054131054132,\n",
       " 0.9196581196581196,\n",
       " 0.9152421652421653,\n",
       " 0.9058404558404558,\n",
       " 0.9135327635327636,\n",
       " 0.9108262108262108,\n",
       " 0.9138176638176638,\n",
       " 0.8995726495726496,\n",
       " 0.9162393162393162,\n",
       " 0.9156695156695157,\n",
       " 0.90997150997151,\n",
       " 0.9085470085470085,\n",
       " 0.9158119658119658,\n",
       " 0.9145299145299145,\n",
       " 0.9109686609686609,\n",
       " 0.9126780626780627,\n",
       " 0.9168091168091168,\n",
       " 0.9160968660968661,\n",
       " 0.9190883190883191,\n",
       " 0.9113960113960113,\n",
       " 0.9142450142450143,\n",
       " 0.9121082621082621,\n",
       " 0.9172364672364672,\n",
       " 0.9118233618233619,\n",
       " 0.9141025641025641,\n",
       " 0.906980056980057,\n",
       " 0.9034188034188034,\n",
       " 0.9092592592592592,\n",
       " 0.9082621082621083,\n",
       " 0.9025641025641026,\n",
       " 0.9135327635327636,\n",
       " 0.9186609686609687,\n",
       " 0.9209401709401709,\n",
       " 0.913960113960114,\n",
       " 0.9182336182336183,\n",
       " 0.9113960113960113,\n",
       " 0.9149572649572649,\n",
       " 0.9202279202279202,\n",
       " 0.9112535612535613,\n",
       " 0.9178062678062678,\n",
       " 0.9176638176638177,\n",
       " 0.9141025641025641,\n",
       " 0.917094017094017,\n",
       " 0.9149572649572649,\n",
       " 0.9183760683760683,\n",
       " 0.9195156695156695,\n",
       " 0.9212250712250712,\n",
       " 0.9192307692307692,\n",
       " 0.9086894586894587,\n",
       " 0.917094017094017,\n",
       " 0.9193732193732194,\n",
       " 0.9158119658119658,\n",
       " 0.915954415954416,\n",
       " 0.9086894586894587,\n",
       " 0.9131054131054132,\n",
       " 0.9186609686609687,\n",
       " 0.91994301994302,\n",
       " 0.92008547008547,\n",
       " 0.9175213675213675,\n",
       " 0.9192307692307692,\n",
       " 0.9105413105413105,\n",
       " 0.9163817663817664,\n",
       " 0.9212250712250712,\n",
       " 0.9195156695156695,\n",
       " 0.9212250712250712,\n",
       " 0.9217948717948717,\n",
       " 0.9216524216524217,\n",
       " 0.9166666666666666,\n",
       " 0.9145299145299145,\n",
       " 0.911965811965812,\n",
       " 0.915954415954416,\n",
       " 0.91994301994302,\n",
       " 0.9166666666666666,\n",
       " 0.9106837606837607,\n",
       " 0.92008547008547,\n",
       " 0.9236467236467236,\n",
       " 0.9160968660968661,\n",
       " 0.9172364672364672,\n",
       " 0.9148148148148149,\n",
       " 0.9210826210826211,\n",
       " 0.9207977207977208,\n",
       " 0.9252136752136753,\n",
       " 0.9195156695156695,\n",
       " 0.9235042735042736,\n",
       " 0.9205128205128205,\n",
       " 0.9223646723646723,\n",
       " 0.9179487179487179,\n",
       " 0.9165242165242166,\n",
       " 0.9163817663817664,\n",
       " 0.9162393162393162,\n",
       " 0.9163817663817664,\n",
       " 0.9149572649572649,\n",
       " 0.916951566951567,\n",
       " 0.9189458689458689,\n",
       " 0.9212250712250712,\n",
       " 0.9225071225071225,\n",
       " 0.9206552706552706,\n",
       " 0.9196581196581196,\n",
       " 0.9237891737891738,\n",
       " 0.9175213675213675,\n",
       " 0.9195156695156695,\n",
       " 0.9196581196581196,\n",
       " 0.9213675213675213,\n",
       " 0.9226495726495727,\n",
       " 0.9183760683760683,\n",
       " 0.922934472934473,\n",
       " 0.9203703703703704,\n",
       " 0.9196581196581196,\n",
       " 0.9152421652421653,\n",
       " 0.9207977207977208,\n",
       " 0.9227920227920228,\n",
       " 0.9162393162393162,\n",
       " 0.9105413105413105,\n",
       " 0.9219373219373219,\n",
       " 0.9183760683760683,\n",
       " 0.9260683760683761,\n",
       " 0.9220797720797721,\n",
       " 0.9179487179487179,\n",
       " 0.9236467236467236,\n",
       " 0.9122507122507123,\n",
       " 0.924074074074074,\n",
       " 0.913960113960114,\n",
       " 0.9209401709401709,\n",
       " 0.9220797720797721,\n",
       " 0.9223646723646723,\n",
       " 0.9217948717948717,\n",
       " 0.9227920227920228,\n",
       " 0.9206552706552706,\n",
       " 0.9172364672364672,\n",
       " 0.9233618233618234,\n",
       " 0.9242165242165242,\n",
       " 0.9213675213675213,\n",
       " 0.9216524216524217,\n",
       " 0.9094017094017094,\n",
       " 0.9254985754985755,\n",
       " 0.924074074074074,\n",
       " 0.9125356125356126,\n",
       " 0.9193732193732194,\n",
       " 0.9132478632478632,\n",
       " 0.9225071225071225,\n",
       " 0.9232193732193732,\n",
       " 0.924074074074074,\n",
       " 0.9209401709401709,\n",
       " 0.9190883190883191,\n",
       " 0.9185185185185185,\n",
       " 0.9209401709401709,\n",
       " 0.92008547008547,\n",
       " 0.9217948717948717,\n",
       " 0.923931623931624,\n",
       " 0.9230769230769231,\n",
       " 0.9237891737891738,\n",
       " 0.9141025641025641,\n",
       " 0.9249287749287749,\n",
       " 0.9237891737891738,\n",
       " 0.9188034188034188,\n",
       " 0.9162393162393162,\n",
       " 0.916951566951567,\n",
       " 0.9206552706552706,\n",
       " 0.9267806267806268,\n",
       " 0.92008547008547,\n",
       " 0.9227920227920228,\n",
       " 0.9245014245014245,\n",
       " 0.9266381766381766,\n",
       " 0.9206552706552706,\n",
       " 0.9175213675213675,\n",
       " 0.9195156695156695,\n",
       " 0.9207977207977208,\n",
       " 0.9279202279202279,\n",
       " 0.9203703703703704,\n",
       " 0.9257834757834758,\n",
       " 0.9190883190883191,\n",
       " 0.924074074074074,\n",
       " 0.9253561253561253,\n",
       " 0.9282051282051282,\n",
       " 0.9149572649572649,\n",
       " 0.9212250712250712,\n",
       " 0.9243589743589744,\n",
       " 0.9276353276353276,\n",
       " 0.9256410256410257,\n",
       " 0.923931623931624,\n",
       " 0.9205128205128205,\n",
       " 0.924074074074074,\n",
       " 0.9205128205128205,\n",
       " 0.9245014245014245,\n",
       " 0.92008547008547,\n",
       " 0.9215099715099715,\n",
       " 0.9237891737891738,\n",
       " 0.9142450142450143,\n",
       " 0.9243589743589744,\n",
       " 0.9215099715099715,\n",
       " 0.9283475783475783,\n",
       " 0.9233618233618234,\n",
       " 0.92008547008547,\n",
       " 0.9183760683760683,\n",
       " 0.9245014245014245,\n",
       " 0.9254985754985755,\n",
       " 0.9156695156695157,\n",
       " 0.9277777777777778,\n",
       " 0.9296296296296296,\n",
       " 0.9287749287749287,\n",
       " 0.9263532763532764]"
      ]
     },
     "execution_count": 255,
     "metadata": {},
     "output_type": "execute_result"
    }
   ],
   "source": [
    "test_scores"
   ]
  },
  {
   "cell_type": "code",
   "execution_count": 89,
   "id": "fe4c72ad-29d0-4b4e-9f2b-fda892beb2f1",
   "metadata": {},
   "outputs": [],
   "source": [
    "data_i = iter(loader).next()[0]"
   ]
  },
  {
   "cell_type": "code",
   "execution_count": 94,
   "id": "b3eaccdb-4fa2-4490-843a-26c8810daff8",
   "metadata": {},
   "outputs": [
    {
     "data": {
      "text/plain": [
       "torch.Size([28, 2])"
      ]
     },
     "execution_count": 94,
     "metadata": {},
     "output_type": "execute_result"
    }
   ],
   "source": [
    "data_i.x.shape"
   ]
  },
  {
   "cell_type": "code",
   "execution_count": 98,
   "id": "4ecb3cde-1b24-4a0d-a7d8-a01d53b3b2d4",
   "metadata": {},
   "outputs": [
    {
     "data": {
      "text/plain": [
       "tensor([0., 0., 0., 0., 0., 0., 0., 0., 0., 0., 0., 0., 0., 0., 0., 0., 0., 0., 0., 0., 0., 0., 0., 0.,\n",
       "        0., 0., 0., 0.], dtype=torch.float64)"
      ]
     },
     "execution_count": 98,
     "metadata": {},
     "output_type": "execute_result"
    }
   ],
   "source": [
    "data_i.y"
   ]
  },
  {
   "cell_type": "code",
   "execution_count": 107,
   "id": "a4ca7295-cc25-46b1-9bef-ddf2693e1e3f",
   "metadata": {},
   "outputs": [
    {
     "data": {
      "text/plain": [
       "tensor([1])"
      ]
     },
     "execution_count": 107,
     "metadata": {},
     "output_type": "execute_result"
    }
   ],
   "source": [
    "pred(model, data_i.x.float(), data_i.edge_index)"
   ]
  },
  {
   "cell_type": "code",
   "execution_count": 117,
   "id": "0606e67b-b2a0-4018-9fd4-65d138dbb49e",
   "metadata": {
    "tags": []
   },
   "outputs": [
    {
     "name": "stdout",
     "output_type": "stream",
     "text": [
      "accuracy:  0.6345587293454592\n"
     ]
    }
   ],
   "source": [
    "sub_data = data_list\n",
    "\n",
    "runs = 0\n",
    "correct = 0\n",
    "for data_i in sub_data:\n",
    "    label = data_i.y[0]\n",
    "    \n",
    "    data_i.edge_index\n",
    "    predict = pred(model, data_i.x.float(), data_i.edge_index)\n",
    "    \n",
    "    runs += 1\n",
    "    if label == predict:\n",
    "        correct += 1\n",
    "\n",
    "print('accuracy: ', correct/runs)"
   ]
  },
  {
   "cell_type": "markdown",
   "id": "2df8da6e-c11e-441c-b403-1331be96969a",
   "metadata": {},
   "source": [
    "### EdgeConv"
   ]
  },
  {
   "cell_type": "code",
   "execution_count": 132,
   "id": "28243742-a0f8-4bf0-9384-20ea899eb611",
   "metadata": {},
   "outputs": [
    {
     "name": "stdout",
     "output_type": "stream",
     "text": [
      "num model params: 7\n"
     ]
    }
   ],
   "source": [
    "model = EdgeConv(2,1)\n",
    "print('num model params:', count_parameters(model))\n",
    "optimizer = torch.optim.Adam(model.parameters())\n",
    "loss_fn = torch.nn.MSELoss()"
   ]
  },
  {
   "cell_type": "code",
   "execution_count": 131,
   "id": "70fb298b-8b8a-41f6-9c73-8378a743173d",
   "metadata": {},
   "outputs": [
    {
     "name": "stderr",
     "output_type": "stream",
     "text": [
      "/Users/maxperozek/opt/anaconda3/envs/comp_gr_thy/lib/python3.9/site-packages/torch/nn/modules/loss.py:529: UserWarning: Using a target size (torch.Size([818])) that is different to the input size (torch.Size([818, 2])). This will likely lead to incorrect results due to broadcasting. Please ensure they have the same size.\n",
      "  return F.mse_loss(input, target, reduction=self.reduction)\n"
     ]
    },
    {
     "ename": "RuntimeError",
     "evalue": "The size of tensor a (2) must match the size of tensor b (818) at non-singleton dimension 1",
     "output_type": "error",
     "traceback": [
      "\u001b[0;31m---------------------------------------------------------------------------\u001b[0m",
      "\u001b[0;31mRuntimeError\u001b[0m                              Traceback (most recent call last)",
      "Input \u001b[0;32mIn [131]\u001b[0m, in \u001b[0;36m<cell line: 4>\u001b[0;34m()\u001b[0m\n\u001b[1;32m      3\u001b[0m model\u001b[38;5;241m.\u001b[39mtrain()\n\u001b[1;32m      4\u001b[0m \u001b[38;5;28;01mfor\u001b[39;00m epoch \u001b[38;5;129;01min\u001b[39;00m \u001b[38;5;28mrange\u001b[39m(epochs):\n\u001b[0;32m----> 5\u001b[0m     loss \u001b[38;5;241m=\u001b[39m \u001b[43mtrain_one_epoch\u001b[49m\u001b[43m(\u001b[49m\u001b[43mmodel\u001b[49m\u001b[43m,\u001b[49m\u001b[43m \u001b[49m\u001b[43mloader\u001b[49m\u001b[43m,\u001b[49m\u001b[43m \u001b[49m\u001b[43moptimizer\u001b[49m\u001b[43m,\u001b[49m\u001b[43m \u001b[49m\u001b[43mloss_fn\u001b[49m\u001b[43m)\u001b[49m\n",
      "Input \u001b[0;32mIn [22]\u001b[0m, in \u001b[0;36mtrain_one_epoch\u001b[0;34m(model, data_loader, optimizer, loss_fn)\u001b[0m\n\u001b[1;32m      4\u001b[0m optimizer\u001b[38;5;241m.\u001b[39mzero_grad()\n\u001b[1;32m      5\u001b[0m model_out \u001b[38;5;241m=\u001b[39m model(batch\u001b[38;5;241m.\u001b[39mx\u001b[38;5;241m.\u001b[39mfloat(), batch\u001b[38;5;241m.\u001b[39medge_index)\n\u001b[0;32m----> 6\u001b[0m loss \u001b[38;5;241m=\u001b[39m \u001b[43mloss_fn\u001b[49m\u001b[43m(\u001b[49m\u001b[43mtorch\u001b[49m\u001b[38;5;241;43m.\u001b[39;49m\u001b[43msqueeze\u001b[49m\u001b[43m(\u001b[49m\u001b[43mmodel_out\u001b[49m\u001b[43m)\u001b[49m\u001b[43m,\u001b[49m\u001b[43m \u001b[49m\u001b[43mbatch\u001b[49m\u001b[38;5;241;43m.\u001b[39;49m\u001b[43my\u001b[49m\u001b[38;5;241;43m.\u001b[39;49m\u001b[43mfloat\u001b[49m\u001b[43m(\u001b[49m\u001b[43m)\u001b[49m\u001b[43m)\u001b[49m\n\u001b[1;32m      7\u001b[0m loss\u001b[38;5;241m.\u001b[39mbackward()  \n\u001b[1;32m      8\u001b[0m optimizer\u001b[38;5;241m.\u001b[39mstep()\n",
      "File \u001b[0;32m~/opt/anaconda3/envs/comp_gr_thy/lib/python3.9/site-packages/torch/nn/modules/module.py:1110\u001b[0m, in \u001b[0;36mModule._call_impl\u001b[0;34m(self, *input, **kwargs)\u001b[0m\n\u001b[1;32m   1106\u001b[0m \u001b[38;5;66;03m# If we don't have any hooks, we want to skip the rest of the logic in\u001b[39;00m\n\u001b[1;32m   1107\u001b[0m \u001b[38;5;66;03m# this function, and just call forward.\u001b[39;00m\n\u001b[1;32m   1108\u001b[0m \u001b[38;5;28;01mif\u001b[39;00m \u001b[38;5;129;01mnot\u001b[39;00m (\u001b[38;5;28mself\u001b[39m\u001b[38;5;241m.\u001b[39m_backward_hooks \u001b[38;5;129;01mor\u001b[39;00m \u001b[38;5;28mself\u001b[39m\u001b[38;5;241m.\u001b[39m_forward_hooks \u001b[38;5;129;01mor\u001b[39;00m \u001b[38;5;28mself\u001b[39m\u001b[38;5;241m.\u001b[39m_forward_pre_hooks \u001b[38;5;129;01mor\u001b[39;00m _global_backward_hooks\n\u001b[1;32m   1109\u001b[0m         \u001b[38;5;129;01mor\u001b[39;00m _global_forward_hooks \u001b[38;5;129;01mor\u001b[39;00m _global_forward_pre_hooks):\n\u001b[0;32m-> 1110\u001b[0m     \u001b[38;5;28;01mreturn\u001b[39;00m \u001b[43mforward_call\u001b[49m\u001b[43m(\u001b[49m\u001b[38;5;241;43m*\u001b[39;49m\u001b[38;5;28;43minput\u001b[39;49m\u001b[43m,\u001b[49m\u001b[43m \u001b[49m\u001b[38;5;241;43m*\u001b[39;49m\u001b[38;5;241;43m*\u001b[39;49m\u001b[43mkwargs\u001b[49m\u001b[43m)\u001b[49m\n\u001b[1;32m   1111\u001b[0m \u001b[38;5;66;03m# Do not call functions when jit is used\u001b[39;00m\n\u001b[1;32m   1112\u001b[0m full_backward_hooks, non_full_backward_hooks \u001b[38;5;241m=\u001b[39m [], []\n",
      "File \u001b[0;32m~/opt/anaconda3/envs/comp_gr_thy/lib/python3.9/site-packages/torch/nn/modules/loss.py:529\u001b[0m, in \u001b[0;36mMSELoss.forward\u001b[0;34m(self, input, target)\u001b[0m\n\u001b[1;32m    528\u001b[0m \u001b[38;5;28;01mdef\u001b[39;00m \u001b[38;5;21mforward\u001b[39m(\u001b[38;5;28mself\u001b[39m, \u001b[38;5;28minput\u001b[39m: Tensor, target: Tensor) \u001b[38;5;241m-\u001b[39m\u001b[38;5;241m>\u001b[39m Tensor:\n\u001b[0;32m--> 529\u001b[0m     \u001b[38;5;28;01mreturn\u001b[39;00m \u001b[43mF\u001b[49m\u001b[38;5;241;43m.\u001b[39;49m\u001b[43mmse_loss\u001b[49m\u001b[43m(\u001b[49m\u001b[38;5;28;43minput\u001b[39;49m\u001b[43m,\u001b[49m\u001b[43m \u001b[49m\u001b[43mtarget\u001b[49m\u001b[43m,\u001b[49m\u001b[43m \u001b[49m\u001b[43mreduction\u001b[49m\u001b[38;5;241;43m=\u001b[39;49m\u001b[38;5;28;43mself\u001b[39;49m\u001b[38;5;241;43m.\u001b[39;49m\u001b[43mreduction\u001b[49m\u001b[43m)\u001b[49m\n",
      "File \u001b[0;32m~/opt/anaconda3/envs/comp_gr_thy/lib/python3.9/site-packages/torch/nn/functional.py:3261\u001b[0m, in \u001b[0;36mmse_loss\u001b[0;34m(input, target, size_average, reduce, reduction)\u001b[0m\n\u001b[1;32m   3258\u001b[0m \u001b[38;5;28;01mif\u001b[39;00m size_average \u001b[38;5;129;01mis\u001b[39;00m \u001b[38;5;129;01mnot\u001b[39;00m \u001b[38;5;28;01mNone\u001b[39;00m \u001b[38;5;129;01mor\u001b[39;00m reduce \u001b[38;5;129;01mis\u001b[39;00m \u001b[38;5;129;01mnot\u001b[39;00m \u001b[38;5;28;01mNone\u001b[39;00m:\n\u001b[1;32m   3259\u001b[0m     reduction \u001b[38;5;241m=\u001b[39m _Reduction\u001b[38;5;241m.\u001b[39mlegacy_get_string(size_average, reduce)\n\u001b[0;32m-> 3261\u001b[0m expanded_input, expanded_target \u001b[38;5;241m=\u001b[39m \u001b[43mtorch\u001b[49m\u001b[38;5;241;43m.\u001b[39;49m\u001b[43mbroadcast_tensors\u001b[49m\u001b[43m(\u001b[49m\u001b[38;5;28;43minput\u001b[39;49m\u001b[43m,\u001b[49m\u001b[43m \u001b[49m\u001b[43mtarget\u001b[49m\u001b[43m)\u001b[49m\n\u001b[1;32m   3262\u001b[0m \u001b[38;5;28;01mreturn\u001b[39;00m torch\u001b[38;5;241m.\u001b[39m_C\u001b[38;5;241m.\u001b[39m_nn\u001b[38;5;241m.\u001b[39mmse_loss(expanded_input, expanded_target, _Reduction\u001b[38;5;241m.\u001b[39mget_enum(reduction))\n",
      "File \u001b[0;32m~/opt/anaconda3/envs/comp_gr_thy/lib/python3.9/site-packages/torch/functional.py:75\u001b[0m, in \u001b[0;36mbroadcast_tensors\u001b[0;34m(*tensors)\u001b[0m\n\u001b[1;32m     73\u001b[0m \u001b[38;5;28;01mif\u001b[39;00m has_torch_function(tensors):\n\u001b[1;32m     74\u001b[0m     \u001b[38;5;28;01mreturn\u001b[39;00m handle_torch_function(broadcast_tensors, tensors, \u001b[38;5;241m*\u001b[39mtensors)\n\u001b[0;32m---> 75\u001b[0m \u001b[38;5;28;01mreturn\u001b[39;00m \u001b[43m_VF\u001b[49m\u001b[38;5;241;43m.\u001b[39;49m\u001b[43mbroadcast_tensors\u001b[49m\u001b[43m(\u001b[49m\u001b[43mtensors\u001b[49m\u001b[43m)\u001b[49m\n",
      "\u001b[0;31mRuntimeError\u001b[0m: The size of tensor a (2) must match the size of tensor b (818) at non-singleton dimension 1"
     ]
    }
   ],
   "source": [
    "epochs = 100\n",
    "\n",
    "model.train()\n",
    "for epoch in range(epochs):\n",
    "    loss = train_one_epoch(model, loader, optimizer, loss_fn)"
   ]
  },
  {
   "cell_type": "code",
   "execution_count": 125,
   "id": "ce04098e-36aa-4d4f-93fc-8bcda6534cd9",
   "metadata": {},
   "outputs": [
    {
     "data": {
      "text/plain": [
       "tensor(0.2825, grad_fn=<MseLossBackward0>)"
      ]
     },
     "execution_count": 125,
     "metadata": {},
     "output_type": "execute_result"
    }
   ],
   "source": [
    "loss"
   ]
  },
  {
   "cell_type": "code",
   "execution_count": 63,
   "id": "c596e577-9a7d-46b2-a957-12eaa1a7a416",
   "metadata": {},
   "outputs": [],
   "source": [
    "from torch.nn import Softmax"
   ]
  },
  {
   "cell_type": "code",
   "execution_count": 65,
   "id": "ab3c9dc4-90d8-4e64-91b9-60624ad60f4f",
   "metadata": {},
   "outputs": [],
   "source": [
    "m = Softmax(dim=1)\n",
    "inp = torch.randn(2, 3)\n",
    "output = m(inp)"
   ]
  },
  {
   "cell_type": "code",
   "execution_count": 66,
   "id": "e0b4121b-8fd1-4dbf-a21a-9882229024c8",
   "metadata": {},
   "outputs": [
    {
     "data": {
      "text/plain": [
       "tensor([[0.6567, 0.1431, 0.2002],\n",
       "        [0.1342, 0.6416, 0.2242]])"
      ]
     },
     "execution_count": 66,
     "metadata": {},
     "output_type": "execute_result"
    }
   ],
   "source": [
    "output"
   ]
  },
  {
   "cell_type": "code",
   "execution_count": 67,
   "id": "b9e18af7-dc2c-4378-a3a9-264bed626874",
   "metadata": {},
   "outputs": [
    {
     "data": {
      "text/plain": [
       "tensor([[ 0.2658, -1.2583, -0.9221],\n",
       "        [ 0.8187,  2.3836,  1.3323]])"
      ]
     },
     "execution_count": 67,
     "metadata": {},
     "output_type": "execute_result"
    }
   ],
   "source": [
    "inp"
   ]
  },
  {
   "cell_type": "code",
   "execution_count": null,
   "id": "5a86cbac-d010-42b6-8d72-9de82e7e4dad",
   "metadata": {},
   "outputs": [],
   "source": []
  }
 ],
 "metadata": {
  "kernelspec": {
   "display_name": "Python 3 (ipykernel)",
   "language": "python",
   "name": "python3"
  },
  "language_info": {
   "codemirror_mode": {
    "name": "ipython",
    "version": 3
   },
   "file_extension": ".py",
   "mimetype": "text/x-python",
   "name": "python",
   "nbconvert_exporter": "python",
   "pygments_lexer": "ipython3",
   "version": "3.9.12"
  }
 },
 "nbformat": 4,
 "nbformat_minor": 5
}
