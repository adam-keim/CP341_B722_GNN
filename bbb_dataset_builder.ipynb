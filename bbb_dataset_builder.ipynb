{
 "cells": [
  {
   "cell_type": "code",
   "execution_count": 41,
   "id": "35cfcaad-9ca9-4cc0-87ec-53bfc2320aee",
   "metadata": {},
   "outputs": [],
   "source": [
    "import pickle\n",
    "import torch\n",
    "\n",
    "from torch_geometric.data import InMemoryDataset\n",
    "from torch_geometric.data import Data\n",
    "\n",
    "import networkx as nx\n",
    "import numpy as np\n",
    "import pandas as pd\n",
    "import deepchem as dc\n",
    "\n",
    "from tqdm.notebook import tqdm"
   ]
  },
  {
   "cell_type": "code",
   "execution_count": 31,
   "id": "f000aa33-fe0d-4e1c-bc30-1f4cbea62194",
   "metadata": {},
   "outputs": [
    {
     "data": {
      "text/html": [
       "<div>\n",
       "<style scoped>\n",
       "    .dataframe tbody tr th:only-of-type {\n",
       "        vertical-align: middle;\n",
       "    }\n",
       "\n",
       "    .dataframe tbody tr th {\n",
       "        vertical-align: top;\n",
       "    }\n",
       "\n",
       "    .dataframe thead th {\n",
       "        text-align: right;\n",
       "    }\n",
       "</style>\n",
       "<table border=\"1\" class=\"dataframe\">\n",
       "  <thead>\n",
       "    <tr style=\"text-align: right;\">\n",
       "      <th></th>\n",
       "      <th>index</th>\n",
       "      <th>NO.</th>\n",
       "      <th>compound_name</th>\n",
       "      <th>IUPAC_name</th>\n",
       "      <th>SMILES</th>\n",
       "      <th>CID</th>\n",
       "      <th>logBB</th>\n",
       "      <th>BBB+/BBB-</th>\n",
       "      <th>Inchi</th>\n",
       "      <th>threshold</th>\n",
       "      <th>reference</th>\n",
       "      <th>group</th>\n",
       "      <th>comments</th>\n",
       "    </tr>\n",
       "  </thead>\n",
       "  <tbody>\n",
       "    <tr>\n",
       "      <th>0</th>\n",
       "      <td>0</td>\n",
       "      <td>1</td>\n",
       "      <td>sulphasalazine</td>\n",
       "      <td>2-hydroxy-5-[[4-(pyridin-2-ylsulfamoyl)phenyl]...</td>\n",
       "      <td>O=C(O)c1cc(N=Nc2ccc(S(=O)(=O)Nc3ccccn3)cc2)ccc1O</td>\n",
       "      <td>5339.0</td>\n",
       "      <td>-2.69</td>\n",
       "      <td>BBB-</td>\n",
       "      <td>InChI=1S/C18H14N4O5S/c23-16-9-6-13(11-15(16)18...</td>\n",
       "      <td>NaN</td>\n",
       "      <td>R2|R2|R25|R46|</td>\n",
       "      <td>A</td>\n",
       "      <td>NaN</td>\n",
       "    </tr>\n",
       "    <tr>\n",
       "      <th>1</th>\n",
       "      <td>1</td>\n",
       "      <td>2</td>\n",
       "      <td>moxalactam</td>\n",
       "      <td>7-[[2-carboxy-2-(4-hydroxyphenyl)acetyl]amino]...</td>\n",
       "      <td>COC1(NC(=O)C(C(=O)O)c2ccc(O)cc2)C(=O)N2C(C(=O)...</td>\n",
       "      <td>3889.0</td>\n",
       "      <td>-2.52</td>\n",
       "      <td>BBB-</td>\n",
       "      <td>InChI=1S/C20H20N6O9S/c1-25-19(22-23-24-25)36-8...</td>\n",
       "      <td>NaN</td>\n",
       "      <td>R25|</td>\n",
       "      <td>A</td>\n",
       "      <td>NaN</td>\n",
       "    </tr>\n",
       "    <tr>\n",
       "      <th>2</th>\n",
       "      <td>2</td>\n",
       "      <td>3</td>\n",
       "      <td>clioquinol</td>\n",
       "      <td>5-chloro-7-iodoquinolin-8-ol</td>\n",
       "      <td>Oc1c(I)cc(Cl)c2cccnc12</td>\n",
       "      <td>2788.0</td>\n",
       "      <td>-2.40</td>\n",
       "      <td>BBB-</td>\n",
       "      <td>InChI=1S/C9H5ClINO/c10-6-4-7(11)9(13)8-5(6)2-1...</td>\n",
       "      <td>NaN</td>\n",
       "      <td>R18|R26|R27|</td>\n",
       "      <td>A</td>\n",
       "      <td>NaN</td>\n",
       "    </tr>\n",
       "    <tr>\n",
       "      <th>3</th>\n",
       "      <td>3</td>\n",
       "      <td>4</td>\n",
       "      <td>bbcpd11 (cimetidine analog) (y-g13)</td>\n",
       "      <td>2-[2-[(3-bromopyridin-2-yl)methylsulfanyl]ethy...</td>\n",
       "      <td>CCNC(=NCCSCc1ncccc1Br)NC#N</td>\n",
       "      <td>14022517.0</td>\n",
       "      <td>-2.15</td>\n",
       "      <td>BBB-</td>\n",
       "      <td>InChI=1S/C12H16BrN5S/c1-2-15-12(18-9-14)17-6-7...</td>\n",
       "      <td>NaN</td>\n",
       "      <td>R2|R2|R8|R40|R2|R2|R2|R2|R18|R21|R25|R25|R26|R...</td>\n",
       "      <td>A</td>\n",
       "      <td>NaN</td>\n",
       "    </tr>\n",
       "    <tr>\n",
       "      <th>4</th>\n",
       "      <td>4</td>\n",
       "      <td>5</td>\n",
       "      <td>schembl614298</td>\n",
       "      <td>(2s,3s,4s,5r)-6-[[(4r,4ar,7s,7ar,12bs)-7-hydro...</td>\n",
       "      <td>CN1CC[C@]23c4c5ccc(OC6O[C@H](C(=O)O)[C@@H](O)[...</td>\n",
       "      <td>18595497.0</td>\n",
       "      <td>-2.15</td>\n",
       "      <td>BBB-</td>\n",
       "      <td>InChI=1S/C23H27NO9/c1-24-7-6-23-10-3-4-12(25)2...</td>\n",
       "      <td>NaN</td>\n",
       "      <td>R25|</td>\n",
       "      <td>A</td>\n",
       "      <td>NaN</td>\n",
       "    </tr>\n",
       "    <tr>\n",
       "      <th>...</th>\n",
       "      <td>...</td>\n",
       "      <td>...</td>\n",
       "      <td>...</td>\n",
       "      <td>...</td>\n",
       "      <td>...</td>\n",
       "      <td>...</td>\n",
       "      <td>...</td>\n",
       "      <td>...</td>\n",
       "      <td>...</td>\n",
       "      <td>...</td>\n",
       "      <td>...</td>\n",
       "      <td>...</td>\n",
       "      <td>...</td>\n",
       "    </tr>\n",
       "    <tr>\n",
       "      <th>7802</th>\n",
       "      <td>7802</td>\n",
       "      <td>7803</td>\n",
       "      <td>antazoline</td>\n",
       "      <td>n-benzyl-n-(4,5-dihydro-1h-imidazol-2-ylmethyl...</td>\n",
       "      <td>c1ccc(CN(CC2=NCCN2)c2ccccc2)cc1</td>\n",
       "      <td>2200.0</td>\n",
       "      <td>NaN</td>\n",
       "      <td>BBB-</td>\n",
       "      <td>InChI=1S/C17H19N3/c1-3-7-15(8-4-1)13-20(14-17-...</td>\n",
       "      <td>NaN</td>\n",
       "      <td>R14|R23|R50|</td>\n",
       "      <td>D</td>\n",
       "      <td>NaN</td>\n",
       "    </tr>\n",
       "    <tr>\n",
       "      <th>7803</th>\n",
       "      <td>7803</td>\n",
       "      <td>7804</td>\n",
       "      <td>emedastine</td>\n",
       "      <td>1-(2-ethoxyethyl)-2-(4-methyl-1,4-diazepan-1-y...</td>\n",
       "      <td>CCOCCn1c(N2CCCN(C)CC2)nc2ccccc21</td>\n",
       "      <td>3219.0</td>\n",
       "      <td>NaN</td>\n",
       "      <td>BBB+</td>\n",
       "      <td>InChI=1S/C17H26N4O/c1-3-22-14-13-21-16-8-5-4-7...</td>\n",
       "      <td>NaN</td>\n",
       "      <td>R15|R23|R50|</td>\n",
       "      <td>D</td>\n",
       "      <td>NaN</td>\n",
       "    </tr>\n",
       "    <tr>\n",
       "      <th>7804</th>\n",
       "      <td>7804</td>\n",
       "      <td>7805</td>\n",
       "      <td>ketotifen</td>\n",
       "      <td>2-(1-methylpiperidin-4-ylidene)-6-thiatricyclo...</td>\n",
       "      <td>CN1CCC(=C2c3ccccc3CC(=O)c3sccc32)CC1</td>\n",
       "      <td>3827.0</td>\n",
       "      <td>NaN</td>\n",
       "      <td>BBB+</td>\n",
       "      <td>InChI=1S/C19H19NOS/c1-20-9-6-13(7-10-20)18-15-...</td>\n",
       "      <td>NaN</td>\n",
       "      <td>R15|R27|R50|</td>\n",
       "      <td>D</td>\n",
       "      <td>NaN</td>\n",
       "    </tr>\n",
       "    <tr>\n",
       "      <th>7805</th>\n",
       "      <td>7805</td>\n",
       "      <td>7806</td>\n",
       "      <td>milrinone</td>\n",
       "      <td>6-methyl-2-oxo-5-pyridin-4-yl-1h-pyridine-3-ca...</td>\n",
       "      <td>Cc1[nH]c(=O)c(C#N)cc1-c1ccncc1</td>\n",
       "      <td>4197.0</td>\n",
       "      <td>NaN</td>\n",
       "      <td>BBB-</td>\n",
       "      <td>InChI=1S/C12H9N3O/c1-8-11(9-2-4-14-5-3-9)6-10(...</td>\n",
       "      <td>NaN</td>\n",
       "      <td>R15|R23|R27|</td>\n",
       "      <td>D</td>\n",
       "      <td>NaN</td>\n",
       "    </tr>\n",
       "    <tr>\n",
       "      <th>7806</th>\n",
       "      <td>7806</td>\n",
       "      <td>7807</td>\n",
       "      <td>amrinone</td>\n",
       "      <td>3-amino-5-pyridin-4-yl-1h-pyridin-2-one</td>\n",
       "      <td>Nc1cc(-c2ccncc2)c[nH]c1=O</td>\n",
       "      <td>3698.0</td>\n",
       "      <td>NaN</td>\n",
       "      <td>BBB-</td>\n",
       "      <td>InChI=1S/C10H9N3O/c11-9-5-8(6-13-10(9)14)7-1-3...</td>\n",
       "      <td>NaN</td>\n",
       "      <td>R15|R23|R27|</td>\n",
       "      <td>D</td>\n",
       "      <td>NaN</td>\n",
       "    </tr>\n",
       "  </tbody>\n",
       "</table>\n",
       "<p>7807 rows × 13 columns</p>\n",
       "</div>"
      ],
      "text/plain": [
       "      index   NO.                        compound_name  \\\n",
       "0         0     1                       sulphasalazine   \n",
       "1         1     2                           moxalactam   \n",
       "2         2     3                           clioquinol   \n",
       "3         3     4  bbcpd11 (cimetidine analog) (y-g13)   \n",
       "4         4     5                        schembl614298   \n",
       "...     ...   ...                                  ...   \n",
       "7802   7802  7803                           antazoline   \n",
       "7803   7803  7804                           emedastine   \n",
       "7804   7804  7805                            ketotifen   \n",
       "7805   7805  7806                            milrinone   \n",
       "7806   7806  7807                             amrinone   \n",
       "\n",
       "                                             IUPAC_name  \\\n",
       "0     2-hydroxy-5-[[4-(pyridin-2-ylsulfamoyl)phenyl]...   \n",
       "1     7-[[2-carboxy-2-(4-hydroxyphenyl)acetyl]amino]...   \n",
       "2                          5-chloro-7-iodoquinolin-8-ol   \n",
       "3     2-[2-[(3-bromopyridin-2-yl)methylsulfanyl]ethy...   \n",
       "4     (2s,3s,4s,5r)-6-[[(4r,4ar,7s,7ar,12bs)-7-hydro...   \n",
       "...                                                 ...   \n",
       "7802  n-benzyl-n-(4,5-dihydro-1h-imidazol-2-ylmethyl...   \n",
       "7803  1-(2-ethoxyethyl)-2-(4-methyl-1,4-diazepan-1-y...   \n",
       "7804  2-(1-methylpiperidin-4-ylidene)-6-thiatricyclo...   \n",
       "7805  6-methyl-2-oxo-5-pyridin-4-yl-1h-pyridine-3-ca...   \n",
       "7806            3-amino-5-pyridin-4-yl-1h-pyridin-2-one   \n",
       "\n",
       "                                                 SMILES         CID  logBB  \\\n",
       "0      O=C(O)c1cc(N=Nc2ccc(S(=O)(=O)Nc3ccccn3)cc2)ccc1O      5339.0  -2.69   \n",
       "1     COC1(NC(=O)C(C(=O)O)c2ccc(O)cc2)C(=O)N2C(C(=O)...      3889.0  -2.52   \n",
       "2                                Oc1c(I)cc(Cl)c2cccnc12      2788.0  -2.40   \n",
       "3                            CCNC(=NCCSCc1ncccc1Br)NC#N  14022517.0  -2.15   \n",
       "4     CN1CC[C@]23c4c5ccc(OC6O[C@H](C(=O)O)[C@@H](O)[...  18595497.0  -2.15   \n",
       "...                                                 ...         ...    ...   \n",
       "7802                    c1ccc(CN(CC2=NCCN2)c2ccccc2)cc1      2200.0    NaN   \n",
       "7803                   CCOCCn1c(N2CCCN(C)CC2)nc2ccccc21      3219.0    NaN   \n",
       "7804               CN1CCC(=C2c3ccccc3CC(=O)c3sccc32)CC1      3827.0    NaN   \n",
       "7805                     Cc1[nH]c(=O)c(C#N)cc1-c1ccncc1      4197.0    NaN   \n",
       "7806                          Nc1cc(-c2ccncc2)c[nH]c1=O      3698.0    NaN   \n",
       "\n",
       "     BBB+/BBB-                                              Inchi  threshold  \\\n",
       "0         BBB-  InChI=1S/C18H14N4O5S/c23-16-9-6-13(11-15(16)18...        NaN   \n",
       "1         BBB-  InChI=1S/C20H20N6O9S/c1-25-19(22-23-24-25)36-8...        NaN   \n",
       "2         BBB-  InChI=1S/C9H5ClINO/c10-6-4-7(11)9(13)8-5(6)2-1...        NaN   \n",
       "3         BBB-  InChI=1S/C12H16BrN5S/c1-2-15-12(18-9-14)17-6-7...        NaN   \n",
       "4         BBB-  InChI=1S/C23H27NO9/c1-24-7-6-23-10-3-4-12(25)2...        NaN   \n",
       "...        ...                                                ...        ...   \n",
       "7802      BBB-  InChI=1S/C17H19N3/c1-3-7-15(8-4-1)13-20(14-17-...        NaN   \n",
       "7803      BBB+  InChI=1S/C17H26N4O/c1-3-22-14-13-21-16-8-5-4-7...        NaN   \n",
       "7804      BBB+  InChI=1S/C19H19NOS/c1-20-9-6-13(7-10-20)18-15-...        NaN   \n",
       "7805      BBB-  InChI=1S/C12H9N3O/c1-8-11(9-2-4-14-5-3-9)6-10(...        NaN   \n",
       "7806      BBB-  InChI=1S/C10H9N3O/c11-9-5-8(6-13-10(9)14)7-1-3...        NaN   \n",
       "\n",
       "                                              reference group comments  \n",
       "0                                        R2|R2|R25|R46|     A      NaN  \n",
       "1                                                  R25|     A      NaN  \n",
       "2                                          R18|R26|R27|     A      NaN  \n",
       "3     R2|R2|R8|R40|R2|R2|R2|R2|R18|R21|R25|R25|R26|R...     A      NaN  \n",
       "4                                                  R25|     A      NaN  \n",
       "...                                                 ...   ...      ...  \n",
       "7802                                       R14|R23|R50|     D      NaN  \n",
       "7803                                       R15|R23|R50|     D      NaN  \n",
       "7804                                       R15|R27|R50|     D      NaN  \n",
       "7805                                       R15|R23|R27|     D      NaN  \n",
       "7806                                       R15|R23|R27|     D      NaN  \n",
       "\n",
       "[7807 rows x 13 columns]"
      ]
     },
     "metadata": {},
     "output_type": "display_data"
    }
   ],
   "source": [
    "data = pd.read_csv(\"B3DB/B3DB/B3DB_classification.tsv\", sep=\"\\t\").reset_index()\n",
    "display(data)"
   ]
  },
  {
   "cell_type": "code",
   "execution_count": 32,
   "id": "46e3153b-e8be-480a-9aee-8519919a6be9",
   "metadata": {},
   "outputs": [],
   "source": [
    "featurizer = dc.feat.MolGraphConvFeaturizer(use_edges=True)\n"
   ]
  },
  {
   "cell_type": "code",
   "execution_count": 51,
   "id": "a66a84da-3638-43f3-9dc6-dbfedf95aa6a",
   "metadata": {},
   "outputs": [
    {
     "data": {
      "application/vnd.jupyter.widget-view+json": {
       "model_id": "f2a1940c9d344e99b75cdc16d8d960ac",
       "version_major": 2,
       "version_minor": 0
      },
      "text/plain": [
       "  0%|          | 0/7807 [00:00<?, ?it/s]"
      ]
     },
     "metadata": {},
     "output_type": "display_data"
    },
    {
     "name": "stderr",
     "output_type": "stream",
     "text": [
      "Failed to featurize datapoint 0, [Li]. Appending empty array\n",
      "Exception message: More than one atom should be present in the molecule for this featurizer to work.\n",
      "Failed to featurize datapoint 0, [Kr]. Appending empty array\n",
      "Exception message: More than one atom should be present in the molecule for this featurizer to work.\n",
      "Failed to featurize datapoint 0, O. Appending empty array\n",
      "Exception message: More than one atom should be present in the molecule for this featurizer to work.\n",
      "Failed to featurize datapoint 0, C. Appending empty array\n",
      "Exception message: More than one atom should be present in the molecule for this featurizer to work.\n",
      "Failed to featurize datapoint 0, [Ar]. Appending empty array\n",
      "Exception message: More than one atom should be present in the molecule for this featurizer to work.\n",
      "Failed to featurize datapoint 0, [Xe]. Appending empty array\n",
      "Exception message: More than one atom should be present in the molecule for this featurizer to work.\n",
      "Failed to featurize datapoint 0, [Ne]. Appending empty array\n",
      "Exception message: More than one atom should be present in the molecule for this featurizer to work.\n"
     ]
    },
    {
     "name": "stdout",
     "output_type": "stream",
     "text": [
      "7800\n"
     ]
    }
   ],
   "source": [
    "dataset = []\n",
    "for index, row in tqdm(data.iterrows(), total= data.shape[0]):\n",
    "    f = featurizer.featurize(row[\"SMILES\"])\n",
    "    if f.shape == (1, 0):\n",
    "        continue\n",
    "    d = f[0].to_pyg_graph()\n",
    "    d.y = 1 if row['BBB+/BBB-'] == 'BBB+' else 0\n",
    "    dataset.append(d)\n",
    "    \n",
    "    \n",
    "    \n",
    "print(len(dataset))"
   ]
  },
  {
   "cell_type": "code",
   "execution_count": 53,
   "id": "90d482c5-4a34-4f81-8573-ff983c8a0b5b",
   "metadata": {
    "tags": []
   },
   "outputs": [],
   "source": [
    "with open(\"dataset.dat\", \"wb\") as f:\n",
    "    pickle.dump(dataset, f)"
   ]
  },
  {
   "cell_type": "code",
   "execution_count": 3,
   "id": "6be63605-20f8-4a87-b24b-2d4a799f5a72",
   "metadata": {},
   "outputs": [],
   "source": [
    "# *****how are graph labels being sent across? \n",
    "num_features = 2\n",
    "def nx_to_pyg(gr):\n",
    "    \n",
    "    x = np.zeros((len(gr.nodes()),num_features))\n",
    "    i = 0\n",
    "    for v in gr.nodes().data():\n",
    "        x[i,0] = v[1]['atomic_num']\n",
    "        x[i,1] = v[1]['is_aromatic']\n",
    "        i += 1\n",
    "    x = torch.Tensor(x)\n",
    "\n",
    "    edge_index = []\n",
    "    for e in gr.edges().data():\n",
    "        edge_index.append([e[0], e[1]])\n",
    "    edge_index = torch.Tensor(edge_index).t().contiguous()\n",
    "\n",
    "    y = gr['y']\n",
    "        \n",
    "    return Data(x=x, edge_index=edge_index, y=y)"
   ]
  },
  {
   "cell_type": "code",
   "execution_count": 91,
   "id": "1fac0b65-c33e-491d-9e89-0e3e17b64315",
   "metadata": {},
   "outputs": [
    {
     "data": {
      "text/plain": [
       "[Data(x=[5, 2], edge_index=[2, 8])]"
      ]
     },
     "execution_count": 91,
     "metadata": {},
     "output_type": "execute_result"
    }
   ],
   "source": [
    "nx_to_pyg(gr_list)"
   ]
  },
  {
   "cell_type": "code",
   "execution_count": 5,
   "id": "6431ea8b-a757-4af6-b34d-afaceac133e1",
   "metadata": {},
   "outputs": [],
   "source": [
    "def from_networkx(G):\n",
    "    G = nx.convert_node_labels_to_integers(G)\n",
    "    edges = list(G.edges)\n",
    "    edge_index = torch.tensor(edges, dtype=torch.long).t().contiguous()\n",
    "    data = defaultdict(list)\n",
    "    data['edge_index'] = edge_index.view(2, -1)\n",
    "    for key, value in G.graph.items():\n",
    "        data[key] = value\n",
    "    xs = []\n",
    "    for i, (_, node_data) in enumerate(G.nodes(data=True)):\n",
    "        for key, value in node_data.items():\n",
    "            data[key].append(value)\n",
    "    for i, (_, _, edge_data) in enumerate(G.edges(data=True)):\n",
    "        for key, value in edge_data.items():\n",
    "            data[key].append(value)\n",
    "                            \n",
    "    for key in [\"atomic_num\", \"is_aromatic\"]:\n",
    "        xs.append(data[key])\n",
    "        data['x'] = torch.tensor(xs).t().contiguous()\n",
    "\n",
    "    return Data.from_dict(data)"
   ]
  },
  {
   "cell_type": "code",
   "execution_count": 49,
   "id": "44d807b4-6164-4315-bcc0-6a49d512cec6",
   "metadata": {},
   "outputs": [],
   "source": [
    "def networkx_2_tensor(G):\n",
    "    G = nx.convert_node_labels_to_integers(G)\n",
    "    edges = list(G.edges)\n",
    "    edge_index = torch.tensor(edges, dtype=torch.long).t().contiguous()\n",
    "    edge_index = edge_index.view(2, -1)\n",
    "    \n",
    "    for key, value in G.graph.items():\n",
    "        data[key] = value\n",
    "    \n",
    "    for i, (_, node_data) in enumerate(G.nodes(data=True)):\n",
    "        data[key] = []\n",
    "        for key, value in node_data.items():\n",
    "            data[key] = data[key].append(value)\n",
    "    \n",
    "    edge_attr = []\n",
    "    for i, (_, _, edge_data) in enumerate(G.edges(data=True)):\n",
    "        attr_i = []\n",
    "        for key, value in edge_data.items():\n",
    "            attr_i.append(value)\n",
    "        edge_attr.append(attr_i)\n",
    "    \n",
    "    edge_attr = torch.tensor(edge_attr)\n",
    "    \n",
    "    xs = []\n",
    "    for key in [\"atomic_num\", \"is_aromatic\"]:\n",
    "        xs.append(data[key])\n",
    "    x = torch.tensor(xs).t().contiguous()\n",
    "\n",
    "    return Data.from_dict(data)"
   ]
  },
  {
   "cell_type": "code",
   "execution_count": 50,
   "id": "71d23004-33ce-4bca-a70a-f9416d984e61",
   "metadata": {},
   "outputs": [],
   "source": [
    "def mol_to_graph(mol, data=None):\n",
    "    if data:\n",
    "        G = nx.Graph(\n",
    "            y=1 if data['BBB+/BBB-']==\"BBB+\" else 0, \n",
    "        )\n",
    "    else:\n",
    "        G = nx.Graph()\n",
    "    for atom in mol.GetAtoms():\n",
    "        G.add_node(atom.GetIdx(), atomic_num=atom.GetAtomicNum(), is_aromatic=atom.GetIsAromatic())\n",
    "\n",
    "    for bond in mol.GetBonds():\n",
    "        bond_weight = weight_map[str(bond.GetBondType())]\n",
    "        G.add_edge(bond.GetBeginAtomIdx(), bond.GetEndAtomIdx(), edge_attr=bond_weight)\n",
    "    \n",
    "    return G"
   ]
  },
  {
   "cell_type": "code",
   "execution_count": 51,
   "id": "2d85dc32-491e-4ae4-b451-655f2ec050b2",
   "metadata": {},
   "outputs": [],
   "source": [
    "weight_map = {\n",
    "    'SINGLE': 1,\n",
    "    'AROMATIC': 1.5,\n",
    "    'DOUBLE': 2,\n",
    "    'TRIPLE': 3\n",
    "}"
   ]
  },
  {
   "cell_type": "code",
   "execution_count": 52,
   "id": "90240d97-6439-4652-ad69-7177b2468294",
   "metadata": {},
   "outputs": [],
   "source": [
    "import pandas as pd\n",
    "from rdkit import Chem\n",
    "from collections import defaultdict"
   ]
  },
  {
   "cell_type": "code",
   "execution_count": 53,
   "id": "b5a1cdc4-d970-4898-9ab5-03a407ab0303",
   "metadata": {},
   "outputs": [],
   "source": [
    "data = pd.read_csv(\"B3DB/B3DB/B3DB_classification.tsv\", sep=\"\\t\")"
   ]
  },
  {
   "cell_type": "code",
   "execution_count": 54,
   "id": "1822efc0-2117-4f73-9721-e4e3ae92d968",
   "metadata": {},
   "outputs": [
    {
     "data": {
      "text/plain": [
       "7807"
      ]
     },
     "execution_count": 54,
     "metadata": {},
     "output_type": "execute_result"
    }
   ],
   "source": [
    "len(data)"
   ]
  },
  {
   "cell_type": "code",
   "execution_count": 55,
   "id": "9cd0f923-6b0b-4300-9216-92829bd8106e",
   "metadata": {},
   "outputs": [
    {
     "ename": "KeyError",
     "evalue": "'atomic_num'",
     "output_type": "error",
     "traceback": [
      "\u001b[0;31m---------------------------------------------------------------------------\u001b[0m",
      "\u001b[0;31mKeyError\u001b[0m                                  Traceback (most recent call last)",
      "Input \u001b[0;32mIn [55]\u001b[0m, in \u001b[0;36m<cell line: 4>\u001b[0;34m()\u001b[0m\n\u001b[1;32m      2\u001b[0m mol \u001b[38;5;241m=\u001b[39m Chem\u001b[38;5;241m.\u001b[39mMolFromSmiles(row[\u001b[38;5;124m'\u001b[39m\u001b[38;5;124mSMILES\u001b[39m\u001b[38;5;124m'\u001b[39m])\n\u001b[1;32m      3\u001b[0m G \u001b[38;5;241m=\u001b[39m mol_to_graph(mol, \u001b[38;5;28mdict\u001b[39m(row))\n\u001b[0;32m----> 4\u001b[0m g_tensor \u001b[38;5;241m=\u001b[39m \u001b[43mnetworkx_2_tensor\u001b[49m\u001b[43m(\u001b[49m\u001b[43mG\u001b[49m\u001b[43m)\u001b[49m\n\u001b[1;32m      5\u001b[0m \u001b[38;5;66;03m# g_tensor = nx_to_pyg(G)\u001b[39;00m\n\u001b[1;32m      6\u001b[0m g_tensor \u001b[38;5;241m=\u001b[39m Data(x\u001b[38;5;241m=\u001b[39mg_tensor\u001b[38;5;241m.\u001b[39mx, edge_index\u001b[38;5;241m=\u001b[39mg_tensor\u001b[38;5;241m.\u001b[39medge_index, y\u001b[38;5;241m=\u001b[39m torch\u001b[38;5;241m.\u001b[39mtensor(np\u001b[38;5;241m.\u001b[39mones(g_tensor\u001b[38;5;241m.\u001b[39mx\u001b[38;5;241m.\u001b[39mshape[\u001b[38;5;241m0\u001b[39m]) \u001b[38;5;241m*\u001b[39m g_tensor\u001b[38;5;241m.\u001b[39my))\n",
      "Input \u001b[0;32mIn [49]\u001b[0m, in \u001b[0;36mnetworkx_2_tensor\u001b[0;34m(G)\u001b[0m\n\u001b[1;32m     11\u001b[0m     data[key] \u001b[38;5;241m=\u001b[39m []\n\u001b[1;32m     12\u001b[0m     \u001b[38;5;28;01mfor\u001b[39;00m key, value \u001b[38;5;129;01min\u001b[39;00m node_data\u001b[38;5;241m.\u001b[39mitems():\n\u001b[0;32m---> 13\u001b[0m         data[key] \u001b[38;5;241m=\u001b[39m \u001b[43mdata\u001b[49m\u001b[43m[\u001b[49m\u001b[43mkey\u001b[49m\u001b[43m]\u001b[49m\u001b[38;5;241m.\u001b[39mappend(value)\n\u001b[1;32m     14\u001b[0m \u001b[38;5;28;01mfor\u001b[39;00m i, (_, _, edge_data) \u001b[38;5;129;01min\u001b[39;00m \u001b[38;5;28menumerate\u001b[39m(G\u001b[38;5;241m.\u001b[39medges(data\u001b[38;5;241m=\u001b[39m\u001b[38;5;28;01mTrue\u001b[39;00m)):\n\u001b[1;32m     15\u001b[0m     data[key] \u001b[38;5;241m=\u001b[39m []\n",
      "\u001b[0;31mKeyError\u001b[0m: 'atomic_num'"
     ]
    }
   ],
   "source": [
    "row = data.sample().iloc[0]\n",
    "mol = Chem.MolFromSmiles(row['SMILES'])\n",
    "G = mol_to_graph(mol, dict(row))\n",
    "g_tensor = networkx_2_tensor(G)\n",
    "# g_tensor = nx_to_pyg(G)\n",
    "g_tensor = Data(x=g_tensor.x, edge_index=g_tensor.edge_index, y= torch.tensor(np.ones(g_tensor.x.shape[0]) * g_tensor.y))"
   ]
  },
  {
   "cell_type": "code",
   "execution_count": 56,
   "id": "81276e57-4cbe-4b3a-893b-bcac82045d94",
   "metadata": {},
   "outputs": [
    {
     "data": {
      "text/plain": [
       "Data(x=[2], edge_index=[2, 32], y=[2])"
      ]
     },
     "execution_count": 56,
     "metadata": {},
     "output_type": "execute_result"
    }
   ],
   "source": [
    "g_tensor"
   ]
  },
  {
   "cell_type": "code",
   "execution_count": null,
   "id": "2ad04cbb-59a7-4af2-9edf-7b6437ca0f97",
   "metadata": {},
   "outputs": [],
   "source": [
    "config = {\n",
    "    'edge_features': False,\n",
    "    'node_labels': True, # true if the y tensor should be of shape\n",
    "}"
   ]
  },
  {
   "cell_type": "code",
   "execution_count": null,
   "id": "a7878d16-f081-49d5-a9e9-00d059f2b864",
   "metadata": {
    "tags": []
   },
   "outputs": [],
   "source": [
    "def build_dataset(config):\n",
    "    \n",
    "    data_list_fix = []\n",
    "\n",
    "    for index, row in data.iterrows():\n",
    "        mol = Chem.MolFromSmiles(row['SMILES'])\n",
    "        G = mol_to_graph(mol, dict(row))\n",
    "        g_tensor = from_networkx(G)\n",
    "        # g_tensor = nx_to_pyg(G)\n",
    "        g_tensor = Data(x=g_tensor.x, edge_index=g_tensor.edge_index, y= torch.tensor(np.ones(g_tensor.x.shape[0]) * g_tensor.y))\n",
    "        data_list_fix.append(g_tensor)"
   ]
  },
  {
   "cell_type": "code",
   "execution_count": 24,
   "id": "509a10e6-bc90-414e-b64c-bdc1faf59d7b",
   "metadata": {},
   "outputs": [],
   "source": [
    "data_list = []\n",
    "\n",
    "for index, row in data.iterrows():\n",
    "    mol = Chem.MolFromSmiles(row['SMILES'])\n",
    "    G = mol_to_graph(mol, dict(row))\n",
    "    g_tensor = from_networkx(G)\n",
    "    # g_tensor = nx_to_pyg(G)\n",
    "    g_tensor = Data(x=g_tensor.x, edge_index=g_tensor.edge_index, y= torch.tensor(np.ones(g_tensor.x.shape[0]) * g_tensor.y))\n",
    "    data_list.append(g_tensor)"
   ]
  },
  {
   "cell_type": "code",
   "execution_count": 25,
   "id": "10b6f41c-443f-46d3-a255-4b3565919594",
   "metadata": {},
   "outputs": [
    {
     "data": {
      "text/plain": [
       "tensor([0., 0., 0., 0., 0., 0., 0., 0., 0., 0., 0., 0., 0., 0., 0., 0., 0., 0., 0., 0., 0., 0., 0., 0.,\n",
       "        0., 0., 0., 0.], dtype=torch.float64)"
      ]
     },
     "execution_count": 25,
     "metadata": {},
     "output_type": "execute_result"
    }
   ],
   "source": [
    "data_list[0].y"
   ]
  },
  {
   "cell_type": "code",
   "execution_count": 26,
   "id": "6be5fd1a-4a0d-40b3-81d8-4526bb694a9e",
   "metadata": {},
   "outputs": [],
   "source": [
    "torch.save(data_list, 'tensor_list.pt')"
   ]
  },
  {
   "cell_type": "code",
   "execution_count": 3,
   "id": "ad36f910-902b-423c-9de8-9780792649fb",
   "metadata": {},
   "outputs": [],
   "source": [
    "data_list = torch.load('tensor_list.pt')"
   ]
  },
  {
   "cell_type": "code",
   "execution_count": 4,
   "id": "876625b0-a2d3-4f0e-a7fa-220cade126c1",
   "metadata": {},
   "outputs": [],
   "source": [
    "from torch_geometric.data import Data\n",
    "from torch_geometric.loader import DataLoader"
   ]
  }
 ],
 "metadata": {
  "kernelspec": {
   "display_name": "Python 3 (ipykernel)",
   "language": "python",
   "name": "python3"
  },
  "language_info": {
   "codemirror_mode": {
    "name": "ipython",
    "version": 3
   },
   "file_extension": ".py",
   "mimetype": "text/x-python",
   "name": "python",
   "nbconvert_exporter": "python",
   "pygments_lexer": "ipython3",
   "version": "3.9.12"
  }
 },
 "nbformat": 4,
 "nbformat_minor": 5
}
