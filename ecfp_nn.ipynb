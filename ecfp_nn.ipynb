{
  "cells": [
    {
      "cell_type": "markdown",
      "source": [
        "## Before Running the Following:\n",
        "The following code can all be ran, assuming the following has been fulfilled.\n",
        "- The entirety of the 'ecfp_dataset_builder.ipynb has been ran OR a corresponding 'fps_and_labels.pickle' file has already been created\n",
        "- This file is in the same folder as the 'fps_and_labels.pickle' file.\n",
        "- All imported python packages have already been installed."
      ],
      "metadata": {
        "id": "0CgcbzF3jaUc"
      },
      "id": "0CgcbzF3jaUc"
    },
    {
      "cell_type": "code",
      "execution_count": 8,
      "id": "9a9843fb-7325-45c9-9623-1e3d23778a93",
      "metadata": {
        "id": "9a9843fb-7325-45c9-9623-1e3d23778a93"
      },
      "outputs": [],
      "source": [
        "import pickle\n",
        "import matplotlib.pyplot as plt\n",
        "import random\n",
        "import numpy as np\n",
        "import networkx as nx\n",
        "from sklearn.decomposition import PCA\n",
        "import pandas as pd\n",
        "import torch\n",
        "from torch.utils.data import Dataset, DataLoader"
      ]
    },
    {
      "cell_type": "markdown",
      "id": "012ce3a4-14b7-4d4a-856b-e386e976f39d",
      "metadata": {
        "id": "012ce3a4-14b7-4d4a-856b-e386e976f39d"
      },
      "source": [
        "## Dataset"
      ]
    },
    {
      "cell_type": "markdown",
      "source": [
        "Upon construction, our dataset class randomly saves ~10% of the full dataset (at random), to be tested on. This allows us to seperate testing and training data to assess the quality of our predictive model."
      ],
      "metadata": {
        "id": "CcHluGVoiwGn"
      },
      "id": "CcHluGVoiwGn"
    },
    {
      "cell_type": "code",
      "execution_count": 15,
      "id": "0c180ee4-ec15-4fdb-aa8a-2cf5009e6301",
      "metadata": {
        "id": "0c180ee4-ec15-4fdb-aa8a-2cf5009e6301"
      },
      "outputs": [],
      "source": [
        "class FpsDataset(Dataset):\n",
        "        \n",
        "    def __init__(self, fingerprints, labels):\n",
        "        fps = fingerprints.copy()\n",
        "        lbls = labels.copy()\n",
        "        pca = PCA(n_components=32) # reduce data set vector length to 32\n",
        "        pca_fps = pca.fit_transform(fps)\n",
        "        # hardcoded 781 data pts for testing data\n",
        "        testing_idxs = random.sample(range(7807), 781)\n",
        "        training_idxs = [x for x in list(range(7807)) if x not in testing_idxs]\n",
        "        self.training_tens = torch.tensor(pca_fps[training_idxs,:]).float()\n",
        "        self.test_tens = torch.tensor(pca_fps[testing_idxs,:]).float()\n",
        "        self.tr_label_tens = torch.tensor(lbls[training_idxs]).float()\n",
        "        self.te_label_tens = torch.tensor(lbls[testing_idxs]).float()\n",
        "        self.sample_count = lbls.shape[0]\n",
        "    \n",
        "    def __len__(self):\n",
        "        return len(self.tr_label_tens)\n",
        "        \n",
        "    def __getitem__(self, idx):\n",
        "        return self.training_tens[idx], self.tr_label_tens[idx]"
      ]
    },
    {
      "cell_type": "markdown",
      "source": [
        "Some of the following is commented out, as it is a \"Google Colab\" specific implementation detail."
      ],
      "metadata": {
        "id": "m3Kfjqs8jDHJ"
      },
      "id": "m3Kfjqs8jDHJ"
    },
    {
      "cell_type": "code",
      "source": [
        "'''\n",
        "from google.colab import drive\n",
        "drive.mount('/content/drive')\n",
        "'''\n",
        "\n",
        "with open('fps_and_labels.pickle', 'rb') as f:\n",
        "  fingerprints, labels = pickle.load(f)"
      ],
      "metadata": {
        "colab": {
          "base_uri": "https://localhost:8080/"
        },
        "id": "IUM1iXh0lHEk",
        "outputId": "37986f9d-6cf8-440e-d441-09f149f7afe1"
      },
      "id": "IUM1iXh0lHEk",
      "execution_count": 16,
      "outputs": [
        {
          "output_type": "stream",
          "name": "stdout",
          "text": [
            "Drive already mounted at /content/drive; to attempt to forcibly remount, call drive.mount(\"/content/drive\", force_remount=True).\n"
          ]
        }
      ]
    },
    {
      "cell_type": "code",
      "execution_count": 17,
      "id": "ce65fc47-5d03-4fce-b7e5-fb3b278b3d4f",
      "metadata": {
        "id": "ce65fc47-5d03-4fce-b7e5-fb3b278b3d4f"
      },
      "outputs": [],
      "source": [
        "def unpickle_fps_data(path='fps_and_labels.pickle'):\n",
        "    with open('fps_and_labels.pickle', 'rb') as f:\n",
        "        fingerprints, labels = pickle.load(f)\n",
        "    return (fingerprints, labels)"
      ]
    },
    {
      "cell_type": "markdown",
      "id": "a2aa5e46-143a-4115-8a24-aa1a65794702",
      "metadata": {
        "id": "a2aa5e46-143a-4115-8a24-aa1a65794702"
      },
      "source": [
        "# NN Implementatio\n",
        "The following code is the implementation of our final NN benchmark. It was ran for 2000 epochs with a batch size of 256. The data input vectors are of length 32, each representing one molecule. The classifier for this expriment was optimized in experiments done later in the document.\n",
        "## Setup"
      ]
    },
    {
      "cell_type": "code",
      "execution_count": 18,
      "id": "9d7c58dc-ed7c-46ca-96de-735553faea75",
      "metadata": {
        "id": "9d7c58dc-ed7c-46ca-96de-735553faea75"
      },
      "outputs": [],
      "source": [
        "# Setup: Data, Error func, optimizer, NN classifier\n",
        "# 1. Data\n",
        "\n",
        "#fingerprints, labels = unpickle_fps_data() \n",
        "\n",
        "dataset = FpsDataset(fingerprints, labels) # initialize dataset obj\n",
        "# creates a dataloader to batch data\n",
        "dataloader = DataLoader(dataset=dataset, batch_size=256, shuffle=True)\n",
        "# 2. Error\n",
        "err_func = torch.nn.MSELoss()\n",
        "# 3. Classifier\n",
        "classifier = torch.nn.Sequential(\n",
        "    torch.nn.Linear(32,64),\n",
        "    torch.nn.SiLU(),\n",
        "    torch.nn.Linear(64,32),\n",
        "    torch.nn.SiLU(),\n",
        "    torch.nn.Linear(32,16),\n",
        "    torch.nn.SiLU(),\n",
        "    torch.nn.Linear(16,1)  \n",
        ")\n",
        "# 4. Optimizer\n",
        "optimizer = torch.optim.Adam(classifier.parameters(), 0.001)"
      ]
    },
    {
      "cell_type": "markdown",
      "id": "4c0770cc-6617-4a3f-a7ba-22cd3c957001",
      "metadata": {
        "id": "4c0770cc-6617-4a3f-a7ba-22cd3c957001"
      },
      "source": [
        "## Training Loop"
      ]
    },
    {
      "cell_type": "code",
      "execution_count": 19,
      "id": "bb2fb716-8fc3-4800-a5e5-b00248c57c04",
      "metadata": {
        "id": "bb2fb716-8fc3-4800-a5e5-b00248c57c04"
      },
      "outputs": [],
      "source": [
        "epochs = 2000\n",
        "loss_list = []\n",
        "accuracy_list = []\n",
        "\n",
        "# Training loop:\n",
        "for i in range(epochs):\n",
        "    # loop through training batches\n",
        "    for idx, (data, y) in enumerate(dataloader):\n",
        "        optimizer.zero_grad()\n",
        "        predictions = torch.sigmoid(classifier(data))\n",
        "        error = err_func(predictions, y.reshape((y.size(0),1))) \n",
        "        error.backward()\n",
        "        optimizer.step()\n",
        "    # track error over whole dataset per epoch\n",
        "    predictions = torch.sigmoid(classifier(dataset.training_tens))\n",
        "    loss_list.append(err_func(predictions, dataset.tr_label_tens.reshape(\n",
        "        dataset.tr_label_tens.size(0),1)).detach().numpy())\n",
        "    # track error over tests per epoch\n",
        "    predictions = torch.sigmoid(classifier(dataset.test_tens))\n",
        "    test_predictions = predictions.reshape(-1).detach().numpy().astype(int)\n",
        "    test_labels = dataset.te_label_tens.detach().numpy()\n",
        "    total_correct = 0\n",
        "    for i in range(781):\n",
        "        if test_predictions[i] == test_labels[i]:\n",
        "            total_correct += 1\n",
        "    accuracy_list.append(total_correct/7.81)"
      ]
    },
    {
      "cell_type": "code",
      "execution_count": 20,
      "id": "b0020b97-50bf-4132-90df-b96c2a490be4",
      "metadata": {
        "id": "b0020b97-50bf-4132-90df-b96c2a490be4"
      },
      "outputs": [],
      "source": [
        "def get_accuracy(clss, fps_dataset):\n",
        "    predictions = torch.sigmoid(clss(fps_dataset.test_tens))\n",
        "    test_predictions = predictions.reshape(-1).detach().numpy().astype(int)\n",
        "    test_labels = fps_dataset.te_label_tens.detach().numpy()\n",
        "    total_correct = 0\n",
        "    for i in range(781):\n",
        "        if test_predictions[i] == test_labels[i]:\n",
        "            total_correct += 1\n",
        "    return total_correct/7.81"
      ]
    },
    {
      "cell_type": "markdown",
      "id": "df6791c3-1d6d-4ba1-9503-0df6e84c1d63",
      "metadata": {
        "id": "df6791c3-1d6d-4ba1-9503-0df6e84c1d63"
      },
      "source": [
        "### Results"
      ]
    },
    {
      "cell_type": "markdown",
      "source": [
        "The results of our experiments were that we ended with an accuracy on testing data of 80.5%. This means, on data which the NN was not trained on, it was able to accurately predict BBB permiability 80.5% of the time."
      ],
      "metadata": {
        "id": "smUNtI-ehls3"
      },
      "id": "smUNtI-ehls3"
    },
    {
      "cell_type": "code",
      "execution_count": 21,
      "id": "4cdfb7f4-f283-45e4-a6e3-a90fe928f28c",
      "metadata": {
        "collapsed": true,
        "jupyter": {
          "outputs_hidden": true
        },
        "tags": [],
        "colab": {
          "base_uri": "https://localhost:8080/"
        },
        "id": "4cdfb7f4-f283-45e4-a6e3-a90fe928f28c",
        "outputId": "2702d517-6a9a-4b27-8be8-aa7f66f6660f"
      },
      "outputs": [
        {
          "output_type": "stream",
          "name": "stdout",
          "text": [
            "Final Accuracy: 80.537772\n"
          ]
        }
      ],
      "source": [
        "print(\"Final Accuracy: %f\" % get_accuracy(classifier, dataset))"
      ]
    },
    {
      "cell_type": "code",
      "execution_count": 22,
      "id": "974acf24-eb2a-484d-bedd-18351757488e",
      "metadata": {
        "colab": {
          "base_uri": "https://localhost:8080/",
          "height": 295
        },
        "id": "974acf24-eb2a-484d-bedd-18351757488e",
        "outputId": "426faecb-0f22-429e-f4e3-f424ddfcca98"
      },
      "outputs": [
        {
          "output_type": "display_data",
          "data": {
            "text/plain": [
              "<Figure size 432x288 with 1 Axes>"
            ],
            "image/png": "[encoded data removed]"
          },
          "metadata": {
            "needs_background": "light"
          }
        }
      ],
      "source": [
        "plt.plot(list(range(1, epochs+1)), loss_list)\n",
        "plt.xlabel('Epoch')\n",
        "plt.ylabel('Loss (BCE)')\n",
        "plt.title('Training Loss')\n",
        "plt.show()"
      ]
    },
    {
      "cell_type": "code",
      "execution_count": 23,
      "id": "df2008a0-300c-4c53-ae62-e1126dd687ce",
      "metadata": {
        "colab": {
          "base_uri": "https://localhost:8080/",
          "height": 295
        },
        "id": "df2008a0-300c-4c53-ae62-e1126dd687ce",
        "outputId": "17ba2183-4212-4763-9fb4-0a0a49cd2c4d"
      },
      "outputs": [
        {
          "output_type": "display_data",
          "data": {
            "text/plain": [
              "<Figure size 432x288 with 1 Axes>"
            ],
            "image/png": "[encoded data removed]"
          },
          "metadata": {
            "needs_background": "light"
          }
        }
      ],
      "source": [
        "plt.plot(list(range(1, epochs+1)), accuracy_list)\n",
        "plt.xlabel('Epoch')\n",
        "plt.ylabel('Accuracy (%)')\n",
        "plt.title('Test Scores')\n",
        "plt.show()"
      ]
    },
    {
      "cell_type": "markdown",
      "id": "9f51a5fb-58b7-4e01-b5bb-e4b7e1282ebd",
      "metadata": {
        "id": "9f51a5fb-58b7-4e01-b5bb-e4b7e1282ebd"
      },
      "source": [
        "# Classifier Hyperparam Testing"
      ]
    },
    {
      "cell_type": "markdown",
      "source": [
        "The following test were ran as a means of improving out classifier implementation. All in all, we discovered a four layer NN with SiLu as the non-linear activation function worked best. The testing was not exhaustive but did improve the quality of the classifier's predictions."
      ],
      "metadata": {
        "id": "o9jR-Bkah7Ve"
      },
      "id": "o9jR-Bkah7Ve"
    },
    {
      "cell_type": "markdown",
      "id": "86f51a8e-da1f-45e8-9149-f9815a47ce20",
      "metadata": {
        "id": "86f51a8e-da1f-45e8-9149-f9815a47ce20"
      },
      "source": [
        "### Classifier Testing Helper Method"
      ]
    },
    {
      "cell_type": "code",
      "execution_count": 32,
      "id": "c84f62b7-e4be-4baf-8244-03f1b60e8d27",
      "metadata": {
        "id": "c84f62b7-e4be-4baf-8244-03f1b60e8d27"
      },
      "outputs": [],
      "source": [
        "def test_classifiers(classifier, epochs, batch_size):\n",
        "    # Setup: Data, Error func, optimizer, NN classifier\n",
        "    # 1. Data\n",
        "    dataset = FpsDataset(fingerprints, labels) # initialize/load dataset obj\n",
        "    # creates a dataloader to batch data\n",
        "    dataloader = DataLoader(dataset=dataset, batch_size=batch_size, shuffle=True)\n",
        "    # 2. Error\n",
        "    err_func = torch.nn.BCELoss()\n",
        "    # 3. Classifier\n",
        "    classifier = classifier\n",
        "    # 4. Optimizer\n",
        "    optimizer = torch.optim.Adam(classifier.parameters(), 0.001)\n",
        "    \n",
        "    # Training loop:\n",
        "    for i in range(epochs):\n",
        "        # loop through training batches\n",
        "        for idx, (data, y) in enumerate(dataloader):\n",
        "            optimizer.zero_grad()\n",
        "            predictions = torch.sigmoid(classifier(data))\n",
        "            error = err_func(predictions, y.reshape((y.size(0),1))) \n",
        "            error.backward()\n",
        "            optimizer.step()\n",
        "    # calc % error  \n",
        "    total_correct = 0\n",
        "    predictions = torch.sigmoid(classifier(dataset.test_tens))\n",
        "    test_predictions = predictions.reshape(-1).detach().numpy().astype(int)\n",
        "    test_labels = dataset.te_label_tens.detach().numpy()\n",
        "    for i in range(781):\n",
        "      if test_predictions[i] == test_labels[i]:\n",
        "          total_correct += 1\n",
        "    # return: classifier, error_list, and percent correct on test\n",
        "    return total_correct/7.81"
      ]
    },
    {
      "cell_type": "markdown",
      "id": "0e5c43d7-eae1-4f31-9694-a2c3e2b5ac00",
      "metadata": {
        "id": "0e5c43d7-eae1-4f31-9694-a2c3e2b5ac00"
      },
      "source": [
        "## Non-Lin Func tests"
      ]
    },
    {
      "cell_type": "markdown",
      "source": [
        "The following tests compared the quality of predictions of NN models with the ReLU, ELU, and Silu non-linear functions respectivley. SiLu turned out to yeild the most accurate results."
      ],
      "metadata": {
        "id": "k4kaaok7iPTE"
      },
      "id": "k4kaaok7iPTE"
    },
    {
      "cell_type": "code",
      "execution_count": 38,
      "id": "47cccdd1-c106-4b99-82fc-163411954a37",
      "metadata": {
        "id": "47cccdd1-c106-4b99-82fc-163411954a37"
      },
      "outputs": [],
      "source": [
        "relu_cl = torch.nn.Sequential(\n",
        "    torch.nn.Linear(32,64),\n",
        "    torch.nn.ReLU(),\n",
        "    torch.nn.Linear(64,32),\n",
        "    torch.nn.ReLU(),\n",
        "    torch.nn.Linear(32,16),\n",
        "    torch.nn.ReLU(),\n",
        "    torch.nn.Linear(16,1)  \n",
        ")\n",
        "elu_cl = torch.nn.Sequential(\n",
        "    torch.nn.Linear(32,64),\n",
        "    torch.nn.ELU(),\n",
        "    torch.nn.Linear(64,32),\n",
        "    torch.nn.ELU(),\n",
        "    torch.nn.Linear(32,16),\n",
        "    torch.nn.ELU(),\n",
        "    torch.nn.Linear(16,1)  \n",
        ")\n",
        "silu_cl = torch.nn.Sequential(\n",
        "    torch.nn.Linear(32,64),\n",
        "    torch.nn.SiLU(),\n",
        "    torch.nn.Linear(64,32),\n",
        "    torch.nn.SiLU(),\n",
        "    torch.nn.Linear(32,16),\n",
        "    torch.nn.SiLU(),\n",
        "    torch.nn.Linear(16,1)  \n",
        ")\n",
        "\n",
        "non_lin_list = [relu_cl,elu_cl,silu_cl]\n",
        "relu = []\n",
        "elu = []\n",
        "silu = []\n",
        "results = [relu, elu, silu]\n",
        "for i in range(10):\n",
        "    j = 0\n",
        "    for cl in non_lin_list:\n",
        "        results[j].append(test_classifiers(cl, 150, 256))\n",
        "        j+=1"
      ]
    },
    {
      "cell_type": "code",
      "execution_count": 43,
      "id": "08253456-2b03-47b8-ba68-ec3fc03cb3bc",
      "metadata": {
        "colab": {
          "base_uri": "https://localhost:8080/",
          "height": 313
        },
        "id": "08253456-2b03-47b8-ba68-ec3fc03cb3bc",
        "outputId": "61e8bffd-be76-4664-e4e0-5337b1050304"
      },
      "outputs": [
        {
          "output_type": "execute_result",
          "data": {
            "text/plain": [
              "<BarContainer object of 3 artists>"
            ]
          },
          "metadata": {},
          "execution_count": 43
        },
        {
          "output_type": "display_data",
          "data": {
            "text/plain": [
              "<Figure size 432x288 with 1 Axes>"
            ],
            "image/png": "[encoded data removed]"
          },
          "metadata": {
            "needs_background": "light"
          }
        }
      ],
      "source": [
        "plt.xlabel('Non-Linear Func.')\n",
        "plt.ylabel('Accuracy (%)')\n",
        "plt.title('Mean Non-Linear Function Accuracy')\n",
        "plt.bar([\"ReLU\",\"ELU\",\"SiLU\"], [np.mean(relu), np.mean(elu), np.mean(silu)])"
      ]
    },
    {
      "cell_type": "markdown",
      "id": "e15f91ea-6b33-41ba-a9eb-4582c950b9bc",
      "metadata": {
        "id": "e15f91ea-6b33-41ba-a9eb-4582c950b9bc"
      },
      "source": [
        "## Hidden Layer Number Tests"
      ]
    },
    {
      "cell_type": "markdown",
      "source": [
        "The following tests compared the quality of predictions of NN models with a range of hidden layers. We only tested NN's with 3, 4, and 5 layers due to time constraints, but 4 layers performed with the highest accuracy."
      ],
      "metadata": {
        "id": "lQijV4zyig1l"
      },
      "id": "lQijV4zyig1l"
    },
    {
      "cell_type": "code",
      "execution_count": 41,
      "id": "37c9c9f0-9516-4508-98dc-197c6c6dd3a0",
      "metadata": {
        "id": "37c9c9f0-9516-4508-98dc-197c6c6dd3a0"
      },
      "outputs": [],
      "source": [
        "thr_cl = torch.nn.Sequential(\n",
        "    torch.nn.Linear(32,64),\n",
        "    torch.nn.SiLU(),\n",
        "    torch.nn.Linear(64,32),\n",
        "    torch.nn.SiLU(),\n",
        "    torch.nn.Linear(32,1), \n",
        ")\n",
        "four_cl = torch.nn.Sequential(\n",
        "    torch.nn.Linear(32,64),\n",
        "    torch.nn.SiLU(),\n",
        "    torch.nn.Linear(64,32),\n",
        "    torch.nn.SiLU(),\n",
        "    torch.nn.Linear(32,16),\n",
        "    torch.nn.SiLU(),\n",
        "    torch.nn.Linear(16,1)  \n",
        ")\n",
        "five_cl = torch.nn.Sequential(\n",
        "    torch.nn.Linear(32,64),\n",
        "    torch.nn.SiLU(),\n",
        "    torch.nn.Linear(64,32),\n",
        "    torch.nn.SiLU(),\n",
        "    torch.nn.Linear(32,16),\n",
        "    torch.nn.SiLU(),\n",
        "    torch.nn.Linear(16,8),  \n",
        "    torch.nn.SiLU(),\n",
        "    torch.nn.Linear(8,1)\n",
        ")\n",
        "layer_list = [thr_cl,four_cl,five_cl]\n",
        "thr = []\n",
        "four = []\n",
        "five = []\n",
        "results = [thr, four, five]\n",
        "for i in range(10):\n",
        "    j = 0\n",
        "    for cl in layer_list:\n",
        "        results[j].append(test_classifiers(cl, 150, 256))\n",
        "        j+=1"
      ]
    },
    {
      "cell_type": "code",
      "source": [
        "plt.xlabel('Number of Hidden Layers')\n",
        "plt.ylabel('Accuracy (%)')\n",
        "plt.title('Mean Classifier Accuracy Per Hidden Layers')\n",
        "plt.bar([\"Three\",\"Four\",\"Five\"], [np.mean(thr), np.mean(four), np.mean(five)])"
      ],
      "metadata": {
        "colab": {
          "base_uri": "https://localhost:8080/",
          "height": 313
        },
        "id": "FUdQkB_W6RA5",
        "outputId": "8cc968b4-d42f-40f8-a8ff-d26e4ffe8c6b"
      },
      "id": "FUdQkB_W6RA5",
      "execution_count": 44,
      "outputs": [
        {
          "output_type": "execute_result",
          "data": {
            "text/plain": [
              "<BarContainer object of 3 artists>"
            ]
          },
          "metadata": {},
          "execution_count": 44
        },
        {
          "output_type": "display_data",
          "data": {
            "text/plain": [
              "<Figure size 432x288 with 1 Axes>"
            ],
            "image/png": "[encoded data removed]"
          },
          "metadata": {
            "needs_background": "light"
          }
        }
      ]
    },
    {
      "cell_type": "code",
      "source": [
        ""
      ],
      "metadata": {
        "id": "MC5fTl5S8GNg"
      },
      "id": "MC5fTl5S8GNg",
      "execution_count": null,
      "outputs": []
    }
  ],
  "metadata": {
    "kernelspec": {
      "display_name": "Python 3 (ipykernel)",
      "language": "python",
      "name": "python3"
    },
    "language_info": {
      "codemirror_mode": {
        "name": "ipython",
        "version": 3
      },
      "file_extension": ".py",
      "mimetype": "text/x-python",
      "name": "python",
      "nbconvert_exporter": "python",
      "pygments_lexer": "ipython3",
      "version": "3.8.13"
    },
    "colab": {
      "name": "ecfp_nn.ipynb",
      "provenance": []
    }
  },
  "nbformat": 4,
  "nbformat_minor": 5
}